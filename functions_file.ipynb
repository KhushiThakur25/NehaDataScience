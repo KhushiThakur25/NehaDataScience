{
 "cells": [
  {
   "cell_type": "code",
   "execution_count": 11,
   "id": "eabe2766-68d0-45ac-a769-1b884f23bdad",
   "metadata": {
    "tags": []
   },
   "outputs": [],
   "source": [
    "def calc(a,b):\n",
    "    print(\"I'm calc\")\n",
    "    print(a+b)\n"
   ]
  },
  {
   "cell_type": "code",
   "execution_count": 12,
   "id": "a906cb47-7bde-476a-b888-0e37cfe6e0a3",
   "metadata": {
    "tags": []
   },
   "outputs": [
    {
     "name": "stdout",
     "output_type": "stream",
     "text": [
      "I'm calc\n",
      "11\n"
     ]
    }
   ],
   "source": [
    "k = calc(5,6)"
   ]
  },
  {
   "cell_type": "code",
   "execution_count": 21,
   "id": "7b2d5035-28ab-4e36-8b41-15a1ed30d9d1",
   "metadata": {
    "tags": []
   },
   "outputs": [],
   "source": [
    "def add(a=0,b=2,c=5):\n",
    "    print(\"sum is\",a+b+c)\n",
    "    "
   ]
  },
  {
   "cell_type": "code",
   "execution_count": 23,
   "id": "111b3607-724c-4725-8a9f-880bb5a14b51",
   "metadata": {
    "tags": []
   },
   "outputs": [
    {
     "name": "stdout",
     "output_type": "stream",
     "text": [
      "sum is 10\n"
     ]
    }
   ],
   "source": [
    "add(2,3,)"
   ]
  },
  {
   "cell_type": "code",
   "execution_count": 25,
   "id": "ac3feee9-a3a6-4611-b808-3020b2c40d61",
   "metadata": {
    "tags": []
   },
   "outputs": [],
   "source": [
    "def add(a,b,c):\n",
    "    print(\"sum is:\",a+b+c)"
   ]
  },
  {
   "cell_type": "code",
   "execution_count": 28,
   "id": "554de490-8d0c-4854-b4bf-28a1c8b5122a",
   "metadata": {
    "tags": []
   },
   "outputs": [
    {
     "name": "stdout",
     "output_type": "stream",
     "text": [
      "sum is: 12\n"
     ]
    }
   ],
   "source": [
    "add(a=1,c=5,b=6)"
   ]
  },
  {
   "cell_type": "code",
   "execution_count": 38,
   "id": "f1bea60f-3cbe-4f6c-894b-297da48c318d",
   "metadata": {
    "tags": []
   },
   "outputs": [],
   "source": [
    "def calc(**args):\n",
    "    print(args)"
   ]
  },
  {
   "cell_type": "code",
   "execution_count": 39,
   "id": "5893fda3-b6e3-42c7-b6cf-642a8ca7cb76",
   "metadata": {
    "tags": []
   },
   "outputs": [
    {
     "name": "stdout",
     "output_type": "stream",
     "text": [
      "{'a': 4, 'b': 5, 'c': 6, 'd': 89}\n"
     ]
    }
   ],
   "source": [
    "calc(a = 4,b = 5,c = 6,d = 89)"
   ]
  },
  {
   "cell_type": "code",
   "execution_count": 2,
   "id": "008fe934-611a-40ca-9252-0388e0a42059",
   "metadata": {},
   "outputs": [],
   "source": [
    "def factorial(n):\n",
    "    fact = 1\n",
    "    for i in range(1,n+1):\n",
    "        fact *= i\n",
    "    return fact\n"
   ]
  },
  {
   "cell_type": "code",
   "execution_count": 3,
   "id": "4187340f-ac26-4db6-a6d1-8ef9a9522e9d",
   "metadata": {
    "tags": []
   },
   "outputs": [
    {
     "data": {
      "text/plain": [
       "120"
      ]
     },
     "execution_count": 3,
     "metadata": {},
     "output_type": "execute_result"
    }
   ],
   "source": [
    "factorial(5)"
   ]
  },
  {
   "cell_type": "code",
   "execution_count": 4,
   "id": "116846da-03fd-47ea-83d5-1ad1a89c3dfc",
   "metadata": {
    "tags": []
   },
   "outputs": [],
   "source": [
    "def factorial(n):\n",
    "    if n <= 1:\n",
    "        return 1\n",
    "    return n*factorial(n-1)\n"
   ]
  },
  {
   "cell_type": "code",
   "execution_count": 6,
   "id": "f11fea07-ba2b-4a79-8226-d6781ab65a3a",
   "metadata": {
    "tags": []
   },
   "outputs": [
    {
     "data": {
      "text/plain": [
       "24"
      ]
     },
     "execution_count": 6,
     "metadata": {},
     "output_type": "execute_result"
    }
   ],
   "source": [
    "factorial(4)"
   ]
  },
  {
   "cell_type": "code",
   "execution_count": 11,
   "id": "0d60f73d-2edf-4016-9315-b3e22ed70402",
   "metadata": {
    "tags": []
   },
   "outputs": [],
   "source": [
    "def detail(n):\n",
    "    if n < 0:\n",
    "        return n\n",
    "    print(n)\n",
    "    detail(n-1)\n",
    "    print(n)"
   ]
  },
  {
   "cell_type": "code",
   "execution_count": 12,
   "id": "e8a4f2d2-9430-4eaf-9622-35f7dbb1c499",
   "metadata": {
    "tags": []
   },
   "outputs": [
    {
     "name": "stdout",
     "output_type": "stream",
     "text": [
      "5\n",
      "4\n",
      "3\n",
      "2\n",
      "1\n",
      "0\n",
      "0\n",
      "1\n",
      "2\n",
      "3\n",
      "4\n",
      "5\n"
     ]
    }
   ],
   "source": [
    "detail(5)"
   ]
  },
  {
   "cell_type": "code",
   "execution_count": 14,
   "id": "3ef73499-3392-46b8-9a7d-b7d871f63947",
   "metadata": {
    "tags": []
   },
   "outputs": [],
   "source": [
    "def f_convert(c):\n",
    "    return 9/5*c + 32\n",
    "temp = [23,45,43,85,96,45,65,51]"
   ]
  },
  {
   "cell_type": "code",
   "execution_count": 15,
   "id": "47fa02a8-1432-4e68-88bf-fac449d01c7e",
   "metadata": {
    "tags": []
   },
   "outputs": [],
   "source": [
    "f = []\n",
    "for i in temp:\n",
    "    f.append(f_convert(i))"
   ]
  },
  {
   "cell_type": "code",
   "execution_count": 16,
   "id": "b075e966-ca2b-478a-b820-e04c02333063",
   "metadata": {
    "tags": []
   },
   "outputs": [
    {
     "data": {
      "text/plain": [
       "[73.4, 113.0, 109.4, 185.0, 204.8, 113.0, 149.0, 123.8]"
      ]
     },
     "execution_count": 16,
     "metadata": {},
     "output_type": "execute_result"
    }
   ],
   "source": [
    "f"
   ]
  },
  {
   "cell_type": "code",
   "execution_count": 18,
   "id": "e9d0a17f-c259-458a-982d-a635b436b15a",
   "metadata": {
    "tags": []
   },
   "outputs": [
    {
     "data": {
      "text/plain": [
       "[73.4, 113.0, 109.4, 185.0, 204.8, 113.0, 149.0, 123.8]"
      ]
     },
     "execution_count": 18,
     "metadata": {},
     "output_type": "execute_result"
    }
   ],
   "source": [
    "list(map(f_convert,temp))"
   ]
  },
  {
   "cell_type": "code",
   "execution_count": 19,
   "id": "e1b5d1ea-c256-41cf-a11e-ea8086fdd7f8",
   "metadata": {
    "tags": []
   },
   "outputs": [],
   "source": [
    "li = [45,12,48,96,65,35,14,12,11]"
   ]
  },
  {
   "cell_type": "code",
   "execution_count": 20,
   "id": "05a0aea7-2924-443d-874a-9fc7d8a2ea66",
   "metadata": {
    "tags": []
   },
   "outputs": [],
   "source": [
    "def even(n):\n",
    "    return n%2 == 0\n",
    "def odd(n):\n",
    "    return n%2 == 1\n"
   ]
  },
  {
   "cell_type": "code",
   "execution_count": 21,
   "id": "234cd1de-8679-47c2-98c3-39b2701eeb25",
   "metadata": {
    "tags": []
   },
   "outputs": [],
   "source": [
    "e = []\n",
    "o = []\n",
    "\n",
    "for i in li:\n",
    "    if even(i):\n",
    "        e.append(i)\n",
    "    elif odd(i):\n",
    "        o.append(i)"
   ]
  },
  {
   "cell_type": "code",
   "execution_count": 22,
   "id": "866d0d23-5e4e-4bca-b8f1-7491f7a04fc8",
   "metadata": {
    "tags": []
   },
   "outputs": [
    {
     "data": {
      "text/plain": [
       "[12, 48, 96, 14, 12]"
      ]
     },
     "execution_count": 22,
     "metadata": {},
     "output_type": "execute_result"
    }
   ],
   "source": [
    "e"
   ]
  },
  {
   "cell_type": "code",
   "execution_count": 23,
   "id": "99d08ba8-145b-4bbf-9e86-858d8bdac9f4",
   "metadata": {
    "tags": []
   },
   "outputs": [
    {
     "data": {
      "text/plain": [
       "[45, 65, 35, 11]"
      ]
     },
     "execution_count": 23,
     "metadata": {},
     "output_type": "execute_result"
    }
   ],
   "source": [
    "o"
   ]
  },
  {
   "cell_type": "code",
   "execution_count": 24,
   "id": "5eccf89f-c1a8-474f-8682-1aa3080137e8",
   "metadata": {
    "tags": []
   },
   "outputs": [
    {
     "data": {
      "text/plain": [
       "[12, 48, 96, 14, 12]"
      ]
     },
     "execution_count": 24,
     "metadata": {},
     "output_type": "execute_result"
    }
   ],
   "source": [
    "list(filter(even,li))"
   ]
  },
  {
   "cell_type": "code",
   "execution_count": 25,
   "id": "51af267a-9fd2-42c0-9ed6-7f5c81f1c332",
   "metadata": {
    "tags": []
   },
   "outputs": [
    {
     "data": {
      "text/plain": [
       "[45, 65, 35, 11]"
      ]
     },
     "execution_count": 25,
     "metadata": {},
     "output_type": "execute_result"
    }
   ],
   "source": [
    "list(filter(odd,li))"
   ]
  },
  {
   "cell_type": "code",
   "execution_count": 26,
   "id": "34303b29-ff6c-43a1-9a7c-0bf834194112",
   "metadata": {
    "tags": []
   },
   "outputs": [
    {
     "data": {
      "text/plain": [
       "327.21153846153845"
      ]
     },
     "execution_count": 26,
     "metadata": {},
     "output_type": "execute_result"
    }
   ],
   "source": [
    "eval(\"85+63/52-15+96/21*56\")"
   ]
  },
  {
   "cell_type": "code",
   "execution_count": 28,
   "id": "7431db43-fed4-4da4-b249-83e5dcab11a8",
   "metadata": {
    "tags": []
   },
   "outputs": [],
   "source": [
    "exec(\"a=5\")"
   ]
  },
  {
   "cell_type": "code",
   "execution_count": 29,
   "id": "818510b3-3175-48ae-8657-f23f9f65a18c",
   "metadata": {
    "tags": []
   },
   "outputs": [
    {
     "data": {
      "text/plain": [
       "5"
      ]
     },
     "execution_count": 29,
     "metadata": {},
     "output_type": "execute_result"
    }
   ],
   "source": [
    "a"
   ]
  },
  {
   "cell_type": "code",
   "execution_count": 31,
   "id": "67ea02e6-7a62-4f50-8149-06485cc2cc55",
   "metadata": {
    "tags": []
   },
   "outputs": [
    {
     "data": {
      "text/plain": [
       "225"
      ]
     },
     "execution_count": 31,
     "metadata": {},
     "output_type": "execute_result"
    }
   ],
   "source": [
    "square = lambda x: x ** 2\n",
    "square(15)\n"
   ]
  },
  {
   "cell_type": "code",
   "execution_count": 34,
   "id": "0ff4488e-bd91-4492-a4ab-b86eb9fd31f7",
   "metadata": {
    "tags": []
   },
   "outputs": [],
   "source": [
    "n = [1,23,45,64,78,21,42,32]\n",
    "even_number = list(filter(lambda x: x % 2==0,n))"
   ]
  },
  {
   "cell_type": "code",
   "execution_count": 35,
   "id": "ba6a0540-eea0-4d2d-bde9-f3d85ea6a26a",
   "metadata": {
    "tags": []
   },
   "outputs": [
    {
     "data": {
      "text/plain": [
       "[64, 78, 42, 32]"
      ]
     },
     "execution_count": 35,
     "metadata": {},
     "output_type": "execute_result"
    }
   ],
   "source": [
    "even_number"
   ]
  },
  {
   "cell_type": "code",
   "execution_count": 36,
   "id": "a038380a-17af-4be8-a2e5-50f574e4473a",
   "metadata": {
    "tags": []
   },
   "outputs": [],
   "source": [
    "def detail():\n",
    "    print(\"hello world\")"
   ]
  },
  {
   "cell_type": "code",
   "execution_count": 37,
   "id": "a70a9a7f-2922-4120-949a-82d2588065dc",
   "metadata": {
    "tags": []
   },
   "outputs": [
    {
     "name": "stdout",
     "output_type": "stream",
     "text": [
      "hello world\n"
     ]
    }
   ],
   "source": [
    "detail()"
   ]
  },
  {
   "cell_type": "code",
   "execution_count": null,
   "id": "bdd4efc4-dd11-4764-b3ff-bd697d72b054",
   "metadata": {},
   "outputs": [],
   "source": []
  }
 ],
 "metadata": {
  "kernelspec": {
   "display_name": "Python 3 (ipykernel)",
   "language": "python",
   "name": "python3"
  },
  "language_info": {
   "codemirror_mode": {
    "name": "ipython",
    "version": 3
   },
   "file_extension": ".py",
   "mimetype": "text/x-python",
   "name": "python",
   "nbconvert_exporter": "python",
   "pygments_lexer": "ipython3",
   "version": "3.11.5"
  }
 },
 "nbformat": 4,
 "nbformat_minor": 5
}
