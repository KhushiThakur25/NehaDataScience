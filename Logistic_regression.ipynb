{
 "cells": [
  {
   "cell_type": "code",
   "execution_count": 1,
   "id": "82be7ca0-78a4-46e6-9365-a7f942ef9736",
   "metadata": {
    "tags": []
   },
   "outputs": [],
   "source": [
    "import numpy as np"
   ]
  },
  {
   "cell_type": "code",
   "execution_count": 2,
   "id": "7779eed1-ea02-4cef-83b0-7828ddc39778",
   "metadata": {
    "tags": []
   },
   "outputs": [],
   "source": [
    "X = np.array([2,4,1,5,3,4,2,6])\n",
    "y = np.array([0,1,0,1,1,1,0,1])"
   ]
  },
  {
   "cell_type": "code",
   "execution_count": 3,
   "id": "38201c11-720d-4a55-b270-79283bcad3c2",
   "metadata": {
    "tags": []
   },
   "outputs": [],
   "source": [
    "b0 = 0\n",
    "b1 = 0\n",
    "learning_rate = 0.01\n",
    "ni = 1000"
   ]
  },
  {
   "cell_type": "code",
   "execution_count": 4,
   "id": "9ceb66d5-f63a-44d8-a0a4-fbf5aa347a5a",
   "metadata": {
    "tags": []
   },
   "outputs": [],
   "source": [
    "def sigmoid(z):\n",
    "    return 1/(1 + np.exp(-z))"
   ]
  },
  {
   "cell_type": "code",
   "execution_count": 6,
   "id": "c2c879dd-17e7-459c-a0c4-8a253b1e7931",
   "metadata": {
    "tags": []
   },
   "outputs": [
    {
     "name": "stdout",
     "output_type": "stream",
     "text": [
      "-1.0707907624663866 0.6727104637792457\n"
     ]
    }
   ],
   "source": [
    "for i in range(ni):\n",
    "    z = b0 + b1*X\n",
    "    y_pred = sigmoid(z)\n",
    "    \n",
    "    db0 = np.mean(y_pred - y)\n",
    "    db1 = np.mean((y_pred-y)*X)\n",
    "    \n",
    "    b0 -= learning_rate * db0\n",
    "    b1 -= learning_rate * db1\n",
    "    \n",
    "print(b0,b1)  "
   ]
  },
  {
   "cell_type": "code",
   "execution_count": 11,
   "id": "9cc3e208-0b07-4ddd-95d1-254915e04e0a",
   "metadata": {
    "tags": []
   },
   "outputs": [
    {
     "name": "stdin",
     "output_type": "stream",
     "text": [
      "Enter the hours u study 2\n"
     ]
    }
   ],
   "source": [
    "user_input = float(input(\"Enter the hours u study\"))\n",
    "z_input = b0 + b1*user_input\n",
    "predicted_prob = sigmoid(z_input)"
   ]
  },
  {
   "cell_type": "code",
   "execution_count": 14,
   "id": "8e2b2193-9187-446a-bf4e-98239923c76c",
   "metadata": {
    "tags": []
   },
   "outputs": [
    {
     "name": "stdout",
     "output_type": "stream",
     "text": [
      "Pass..\n"
     ]
    }
   ],
   "source": [
    "if predicted_prob >= 0.5:\n",
    "    print(\"Pass..\")\n",
    "else:\n",
    "    print(\"fail..\")"
   ]
  },
  {
   "cell_type": "code",
   "execution_count": null,
   "id": "968ec396-e166-4a0a-b41a-72c3ae1cec6f",
   "metadata": {},
   "outputs": [],
   "source": []
  }
 ],
 "metadata": {
  "kernelspec": {
   "display_name": "Python 3 (ipykernel)",
   "language": "python",
   "name": "python3"
  },
  "language_info": {
   "codemirror_mode": {
    "name": "ipython",
    "version": 3
   },
   "file_extension": ".py",
   "mimetype": "text/x-python",
   "name": "python",
   "nbconvert_exporter": "python",
   "pygments_lexer": "ipython3",
   "version": "3.11.5"
  }
 },
 "nbformat": 4,
 "nbformat_minor": 5
}
