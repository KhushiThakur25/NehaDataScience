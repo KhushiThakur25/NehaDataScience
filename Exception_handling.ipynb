{
 "cells": [
  {
   "cell_type": "code",
   "execution_count": 13,
   "id": "aceed65a-e8bd-441b-9b7b-f542ba92fece",
   "metadata": {
    "tags": []
   },
   "outputs": [
    {
     "name": "stdin",
     "output_type": "stream",
     "text": [
      "Enter the value.. 23\n",
      "Enter the value 1.. 0\n"
     ]
    },
    {
     "name": "stdout",
     "output_type": "stream",
     "text": [
      "23\n",
      "23\n",
      "0\n",
      "Integer value can't divide by zero\n",
      "Hello i'm calc\n"
     ]
    }
   ],
   "source": [
    "try:\n",
    "    def add(a,b):\n",
    "        return a+b\n",
    "    def subtract(a,b):\n",
    "        return a-b\n",
    "    def multiply(a,b):\n",
    "        return a*b\n",
    "    def division(a,b):\n",
    "        return a/b\n",
    "\n",
    "    a = int(input(\"Enter the value..\"))\n",
    "    b = int(input(\"Enter the value 1..\"))\n",
    "\n",
    "    print(add(a,b))\n",
    "    print(subtract(a,b))\n",
    "    print(multiply(a,b))\n",
    "    print(division(a,b))\n",
    "except ZeroDivisionError as msg:\n",
    "    print(\"Integer value can't divide by zero\")\n",
    "except Exception as msg:\n",
    "    print(msg)\n",
    "finally:\n",
    "    print(\"Hello i'm calc\")\n",
    "    \n"
   ]
  },
  {
   "cell_type": "code",
   "execution_count": 11,
   "id": "a7c5501b-dd9a-4222-bac1-d08d984f771e",
   "metadata": {
    "tags": []
   },
   "outputs": [
    {
     "name": "stdin",
     "output_type": "stream",
     "text": [
      "Enter your PIN: 1235\n"
     ]
    },
    {
     "name": "stdout",
     "output_type": "stream",
     "text": [
      "Login Failed\n"
     ]
    }
   ],
   "source": [
    "try:\n",
    "    total = 10000\n",
    "    PIN = input(\"Enter your PIN:\")\n",
    "    if PIN == \"1234\":\n",
    "        print(\"Login successfully\")\n",
    "    else:\n",
    "        raise ValueError(\"Login Failed\")\n",
    "    print(\"Debiting amount..\")\n",
    "    amount = int(input(\"Enter the amount..\"))\n",
    "    if amount > total:\n",
    "        raise ValueError(\"Insufficient Balance\")\n",
    "    else:\n",
    "        total -= amount\n",
    "        print(\"Remaining amount is:\",total)\n",
    "except ValueError as msg:\n",
    "    print(msg)\n",
    "    "
   ]
  },
  {
   "cell_type": "code",
   "execution_count": null,
   "id": "fc5238cb-bdd8-446b-a4d4-9c68a545be9c",
   "metadata": {
    "tags": []
   },
   "outputs": [],
   "source": []
  },
  {
   "cell_type": "code",
   "execution_count": null,
   "id": "563a7ec0-52b1-43ab-8a91-e77874e984fd",
   "metadata": {},
   "outputs": [],
   "source": []
  }
 ],
 "metadata": {
  "kernelspec": {
   "display_name": "Python 3 (ipykernel)",
   "language": "python",
   "name": "python3"
  },
  "language_info": {
   "codemirror_mode": {
    "name": "ipython",
    "version": 3
   },
   "file_extension": ".py",
   "mimetype": "text/x-python",
   "name": "python",
   "nbconvert_exporter": "python",
   "pygments_lexer": "ipython3",
   "version": "3.11.5"
  }
 },
 "nbformat": 4,
 "nbformat_minor": 5
}
