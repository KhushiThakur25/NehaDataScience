{
 "cells": [
  {
   "cell_type": "code",
   "execution_count": 5,
   "id": "197f9d06-c777-452c-b08c-479c81ea75c8",
   "metadata": {
    "tags": []
   },
   "outputs": [],
   "source": [
    "st = {1,1,2,4,5,12,31,4,12,4}\n",
    "sr = {1,2,12,2}\n",
    "st1 = {5,74,74,541,9}"
   ]
  },
  {
   "cell_type": "code",
   "execution_count": 2,
   "id": "903175bb-17ac-48da-a4cd-09e32a335e2e",
   "metadata": {
    "tags": []
   },
   "outputs": [
    {
     "data": {
      "text/plain": [
       "6"
      ]
     },
     "execution_count": 2,
     "metadata": {},
     "output_type": "execute_result"
    }
   ],
   "source": [
    "len(st)"
   ]
  },
  {
   "cell_type": "code",
   "execution_count": 3,
   "id": "5996fc30-fb9f-4c95-9d45-fee4d2529854",
   "metadata": {
    "tags": []
   },
   "outputs": [
    {
     "data": {
      "text/plain": [
       "{1, 2, 4, 5, 12, 31}"
      ]
     },
     "execution_count": 3,
     "metadata": {},
     "output_type": "execute_result"
    }
   ],
   "source": [
    "st"
   ]
  },
  {
   "cell_type": "code",
   "execution_count": 6,
   "id": "b29b9fa1-1825-401f-99ae-b5eb3a982bc1",
   "metadata": {
    "tags": []
   },
   "outputs": [
    {
     "data": {
      "text/plain": [
       "{1, 2, 4, 5, 9, 12, 31, 74, 541}"
      ]
     },
     "execution_count": 6,
     "metadata": {},
     "output_type": "execute_result"
    }
   ],
   "source": [
    "st.union(st1)"
   ]
  },
  {
   "cell_type": "code",
   "execution_count": 13,
   "id": "7c313a93-e160-47ed-9bcb-90399d9fa9de",
   "metadata": {
    "tags": []
   },
   "outputs": [
    {
     "name": "stdout",
     "output_type": "stream",
     "text": [
      "1\n",
      "2\n",
      "4\n",
      "5\n",
      "12\n",
      "31\n"
     ]
    }
   ],
   "source": [
    "for i in st:\n",
    "    print(i)"
   ]
  },
  {
   "cell_type": "code",
   "execution_count": 16,
   "id": "9d9d9f76-dbd6-42eb-902f-b7add8681fc1",
   "metadata": {
    "tags": []
   },
   "outputs": [
    {
     "data": {
      "text/plain": [
       "{1, 2, 4, 5, 9, 12, 31, 74, 541}"
      ]
     },
     "execution_count": 16,
     "metadata": {},
     "output_type": "execute_result"
    }
   ],
   "source": [
    "st.update(st1)\n",
    "st"
   ]
  },
  {
   "cell_type": "code",
   "execution_count": 17,
   "id": "ff5ac31b-2178-4318-a0dd-de6cc3503a44",
   "metadata": {
    "tags": []
   },
   "outputs": [
    {
     "data": {
      "text/plain": [
       "{5}"
      ]
     },
     "execution_count": 17,
     "metadata": {},
     "output_type": "execute_result"
    }
   ],
   "source": [
    "st = {1,1,2,4,5,12,31,4,12,4}\n",
    "st.intersection(st1)"
   ]
  },
  {
   "cell_type": "code",
   "execution_count": 19,
   "id": "3e50b7e4-f7b8-4401-a852-8e445977b764",
   "metadata": {
    "tags": []
   },
   "outputs": [],
   "source": [
    "st.intersection_update(st1)"
   ]
  },
  {
   "cell_type": "code",
   "execution_count": 20,
   "id": "13f4c748-4182-494a-90cb-481989041add",
   "metadata": {
    "tags": []
   },
   "outputs": [
    {
     "data": {
      "text/plain": [
       "{5}"
      ]
     },
     "execution_count": 20,
     "metadata": {},
     "output_type": "execute_result"
    }
   ],
   "source": [
    "st"
   ]
  },
  {
   "cell_type": "code",
   "execution_count": 22,
   "id": "b8237508-a505-4287-ab5f-c22f04385406",
   "metadata": {
    "tags": []
   },
   "outputs": [
    {
     "data": {
      "text/plain": [
       "True"
      ]
     },
     "execution_count": 22,
     "metadata": {},
     "output_type": "execute_result"
    }
   ],
   "source": [
    "st = {1,1,2,4,5,12,31,4,12,4}\n",
    "st.issuperset(sr)"
   ]
  },
  {
   "cell_type": "code",
   "execution_count": 24,
   "id": "b7d3ca2e-a145-4d44-9fab-0471852d8ff5",
   "metadata": {
    "tags": []
   },
   "outputs": [
    {
     "data": {
      "text/plain": [
       "True"
      ]
     },
     "execution_count": 24,
     "metadata": {},
     "output_type": "execute_result"
    }
   ],
   "source": [
    "sr.issubset(st)"
   ]
  },
  {
   "cell_type": "code",
   "execution_count": 25,
   "id": "52206c54-f5c6-407c-8357-fb89737e3356",
   "metadata": {
    "tags": []
   },
   "outputs": [
    {
     "data": {
      "text/plain": [
       "{1, 2, 4, 12, 31}"
      ]
     },
     "execution_count": 25,
     "metadata": {},
     "output_type": "execute_result"
    }
   ],
   "source": [
    "st.difference(st1)"
   ]
  },
  {
   "cell_type": "code",
   "execution_count": 26,
   "id": "9bddc562-c003-427c-883d-34379799ba6f",
   "metadata": {},
   "outputs": [
    {
     "data": {
      "text/plain": [
       "{1, 2, 4, 9, 12, 31, 74, 541}"
      ]
     },
     "execution_count": 26,
     "metadata": {},
     "output_type": "execute_result"
    }
   ],
   "source": [
    "st.symmetric_difference(st1)"
   ]
  },
  {
   "cell_type": "code",
   "execution_count": 27,
   "id": "9406499c-30c2-495e-91fb-5ec0fe14902c",
   "metadata": {
    "tags": []
   },
   "outputs": [],
   "source": [
    "st.add(56)"
   ]
  },
  {
   "cell_type": "code",
   "execution_count": 28,
   "id": "efe53f5f-d53c-46b9-a4cb-c71cfbcf082a",
   "metadata": {
    "tags": []
   },
   "outputs": [
    {
     "data": {
      "text/plain": [
       "{1, 2, 4, 5, 12, 31, 56}"
      ]
     },
     "execution_count": 28,
     "metadata": {},
     "output_type": "execute_result"
    }
   ],
   "source": [
    "st"
   ]
  },
  {
   "cell_type": "code",
   "execution_count": 39,
   "id": "df59642a-9a01-4a7e-a211-a947239cfd02",
   "metadata": {
    "tags": []
   },
   "outputs": [],
   "source": [
    "# st.remove(31)\n",
    "st.discard(31)"
   ]
  },
  {
   "cell_type": "code",
   "execution_count": 41,
   "id": "bb41931e-653c-46e2-8d37-847b83c944c8",
   "metadata": {
    "tags": []
   },
   "outputs": [
    {
     "data": {
      "text/plain": [
       "{2, 4, 5, 12, 56}"
      ]
     },
     "execution_count": 41,
     "metadata": {},
     "output_type": "execute_result"
    }
   ],
   "source": [
    "st.discard(31)\n",
    "st"
   ]
  },
  {
   "cell_type": "code",
   "execution_count": 31,
   "id": "2840168a-411e-43e1-9c30-3a2473caa192",
   "metadata": {
    "tags": []
   },
   "outputs": [
    {
     "data": {
      "text/plain": [
       "1"
      ]
     },
     "execution_count": 31,
     "metadata": {},
     "output_type": "execute_result"
    }
   ],
   "source": [
    "st.pop()"
   ]
  },
  {
   "cell_type": "code",
   "execution_count": 32,
   "id": "375f5795-7133-4d78-8cb1-867fcc340824",
   "metadata": {
    "tags": []
   },
   "outputs": [],
   "source": [
    "sr.clear()"
   ]
  },
  {
   "cell_type": "code",
   "execution_count": 33,
   "id": "1df216ae-6754-433e-9662-8ede218bf707",
   "metadata": {
    "tags": []
   },
   "outputs": [
    {
     "data": {
      "text/plain": [
       "set()"
      ]
     },
     "execution_count": 33,
     "metadata": {},
     "output_type": "execute_result"
    }
   ],
   "source": [
    "sr"
   ]
  },
  {
   "cell_type": "code",
   "execution_count": 34,
   "id": "72eca5eb-1452-4777-a573-3d8805a24731",
   "metadata": {
    "tags": []
   },
   "outputs": [
    {
     "data": {
      "text/plain": [
       "False"
      ]
     },
     "execution_count": 34,
     "metadata": {},
     "output_type": "execute_result"
    }
   ],
   "source": [
    "st.isdisjoint(st1)"
   ]
  },
  {
   "cell_type": "code",
   "execution_count": null,
   "id": "61999208-a12a-4526-8ada-e2e2ffc6aa2d",
   "metadata": {},
   "outputs": [],
   "source": []
  }
 ],
 "metadata": {
  "kernelspec": {
   "display_name": "Python 3 (ipykernel)",
   "language": "python",
   "name": "python3"
  },
  "language_info": {
   "codemirror_mode": {
    "name": "ipython",
    "version": 3
   },
   "file_extension": ".py",
   "mimetype": "text/x-python",
   "name": "python",
   "nbconvert_exporter": "python",
   "pygments_lexer": "ipython3",
   "version": "3.11.5"
  }
 },
 "nbformat": 4,
 "nbformat_minor": 5
}
