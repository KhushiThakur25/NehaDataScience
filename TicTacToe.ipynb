{
 "cells": [
  {
   "cell_type": "code",
   "execution_count": 3,
   "id": "3afea9b1-868b-46ff-aceb-b03f7f6c1f53",
   "metadata": {
    "tags": []
   },
   "outputs": [],
   "source": [
    "import random\n",
    "positions = [\" \" for i in range(1,10)]\n",
    "occupied = []\n",
    "\n",
    "def user_fun(ch):\n",
    "    pos = int(input(\"Enter the position to move..\"))\n",
    "    if pos in occupied:\n",
    "        print(\"You can'nt move here..\")\n",
    "        user_fun(ch)\n",
    "    else:\n",
    "        positions[pos-1] = ch\n",
    "        occupied.append(pos)\n",
    "def cpu_fun(ch):\n",
    "    pos = random.randint(1,9)\n",
    "    if pos in occupied:\n",
    "        cpu_fun(ch)\n",
    "    else:\n",
    "        positions[pos-1] = ch\n",
    "        occupied.append(pos)\n",
    "\n",
    "def checkWinner():\n",
    "    winning_combinations = [(0,1,2),(3,4,5),(6,7,8),(0,3,6),(1,4,7),(2,5,8),(0,4,8),(2,4,6)]\n",
    "    for combo in winning_combinations:\n",
    "        if positions[combo[0]] == positions[combo[1]] == positions[combo[2]] != \" \":\n",
    "            return positions[combo[0]]\n",
    "        \n",
    "def gameBoard():\n",
    "    print(\"\"\"\n",
    "    {} | {} | {}\n",
    "    ------------\n",
    "    {} | {} | {}\n",
    "    ------------\n",
    "    {} | {} | {}\"\"\".format(positions[0],positions[1],positions[2],\n",
    "                          positions[3],positions[4],positions[5],\n",
    "                          positions[6],positions[7],positions[8],))\n",
    "\n",
    "def main():\n",
    "    user_choice = input(\"Enter your choice X or 0\").upper()\n",
    "    while user_choice not in ['X','0']:\n",
    "        print(\"Invalid Input, Please select either X or 0\")\n",
    "        user_choice = input(\"Enter your choice X or 0\").upper()\n",
    "    gameBoard()\n",
    "    if user_choice == \"X\":\n",
    "        cpu_choice = \"0\"\n",
    "    else:\n",
    "        cpu_choice = \"X\"\n",
    "    count = 0\n",
    "    winner = None\n",
    "    while count < 5 and not winner:\n",
    "        count += 1\n",
    "        user_fun(user_choice)\n",
    "        gameBoard()\n",
    "        winner = checkWinner()\n",
    "        if winner:\n",
    "            print(f\"Congratulations ! {winner} you win..\")\n",
    "            break\n",
    "        cpu_fun(cpu_choice)\n",
    "        gameBoard()\n",
    "        winner = checkWinner()\n",
    "        if winner:\n",
    "            print(f\"Congratulations ! {winner} you win..\")\n",
    "            break"
   ]
  },
  {
   "cell_type": "code",
   "execution_count": 4,
   "id": "fdbfcbe2-726f-4e98-88dc-15d99423fc39",
   "metadata": {
    "tags": []
   },
   "outputs": [
    {
     "name": "stdin",
     "output_type": "stream",
     "text": [
      "Enter your choice X or 0 0\n"
     ]
    },
    {
     "name": "stdout",
     "output_type": "stream",
     "text": [
      "\n",
      "      |   |  \n",
      "    ------------\n",
      "      |   |  \n",
      "    ------------\n",
      "      |   |  \n"
     ]
    },
    {
     "name": "stdin",
     "output_type": "stream",
     "text": [
      "Enter the position to move.. 3\n"
     ]
    },
    {
     "name": "stdout",
     "output_type": "stream",
     "text": [
      "\n",
      "      |   | 0\n",
      "    ------------\n",
      "      |   |  \n",
      "    ------------\n",
      "      |   |  \n",
      "\n",
      "      |   | 0\n",
      "    ------------\n",
      "      |   |  \n",
      "    ------------\n",
      "    X |   |  \n"
     ]
    },
    {
     "name": "stdin",
     "output_type": "stream",
     "text": [
      "Enter the position to move.. 1\n"
     ]
    },
    {
     "name": "stdout",
     "output_type": "stream",
     "text": [
      "\n",
      "    0 |   | 0\n",
      "    ------------\n",
      "      |   |  \n",
      "    ------------\n",
      "    X |   |  \n",
      "\n",
      "    0 |   | 0\n",
      "    ------------\n",
      "      | X |  \n",
      "    ------------\n",
      "    X |   |  \n"
     ]
    },
    {
     "name": "stdin",
     "output_type": "stream",
     "text": [
      "Enter the position to move.. 9\n"
     ]
    },
    {
     "name": "stdout",
     "output_type": "stream",
     "text": [
      "\n",
      "    0 |   | 0\n",
      "    ------------\n",
      "      | X |  \n",
      "    ------------\n",
      "    X |   | 0\n",
      "\n",
      "    0 |   | 0\n",
      "    ------------\n",
      "    X | X |  \n",
      "    ------------\n",
      "    X |   | 0\n"
     ]
    },
    {
     "name": "stdin",
     "output_type": "stream",
     "text": [
      "Enter the position to move.. 8\n"
     ]
    },
    {
     "name": "stdout",
     "output_type": "stream",
     "text": [
      "\n",
      "    0 |   | 0\n",
      "    ------------\n",
      "    X | X |  \n",
      "    ------------\n",
      "    X | 0 | 0\n",
      "\n",
      "    0 |   | 0\n",
      "    ------------\n",
      "    X | X | X\n",
      "    ------------\n",
      "    X | 0 | 0\n",
      "Congratulations ! X you win..\n"
     ]
    }
   ],
   "source": [
    "main()"
   ]
  },
  {
   "cell_type": "code",
   "execution_count": null,
   "id": "a9c5c766-0e62-428b-afdc-5e408255d24e",
   "metadata": {},
   "outputs": [],
   "source": []
  }
 ],
 "metadata": {
  "kernelspec": {
   "display_name": "Python 3 (ipykernel)",
   "language": "python",
   "name": "python3"
  },
  "language_info": {
   "codemirror_mode": {
    "name": "ipython",
    "version": 3
   },
   "file_extension": ".py",
   "mimetype": "text/x-python",
   "name": "python",
   "nbconvert_exporter": "python",
   "pygments_lexer": "ipython3",
   "version": "3.11.5"
  }
 },
 "nbformat": 4,
 "nbformat_minor": 5
}
