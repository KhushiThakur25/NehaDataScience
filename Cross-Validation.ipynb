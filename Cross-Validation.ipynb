{
 "cells": [
  {
   "cell_type": "code",
   "execution_count": 1,
   "id": "fb0ca2a6-1b72-4969-8441-cb49f5cd91d7",
   "metadata": {
    "tags": []
   },
   "outputs": [],
   "source": [
    "# 1. K-fold Cross-Validation"
   ]
  },
  {
   "cell_type": "code",
   "execution_count": 3,
   "id": "6b5fdc3c-52d8-4513-b4e3-6871cba9cd4c",
   "metadata": {
    "tags": []
   },
   "outputs": [],
   "source": [
    "from sklearn.model_selection import KFold\n",
    "from sklearn.linear_model import LogisticRegression\n",
    "from sklearn.datasets import load_iris\n",
    "from sklearn.metrics import accuracy_score"
   ]
  },
  {
   "cell_type": "code",
   "execution_count": 4,
   "id": "f33ef644-2d58-405e-97b8-3ed5c3412bdb",
   "metadata": {
    "tags": []
   },
   "outputs": [],
   "source": [
    "data = load_iris()"
   ]
  },
  {
   "cell_type": "code",
   "execution_count": 18,
   "id": "b62aec14-5887-4919-8ffa-90abdac9dbc5",
   "metadata": {
    "tags": []
   },
   "outputs": [],
   "source": [
    "X,y = data.data,data.target"
   ]
  },
  {
   "cell_type": "code",
   "execution_count": 19,
   "id": "ddb89727-ec8f-4353-919b-100c039cc049",
   "metadata": {
    "tags": []
   },
   "outputs": [],
   "source": [
    "model = LogisticRegression()"
   ]
  },
  {
   "cell_type": "code",
   "execution_count": 24,
   "id": "7edd7645-fa21-435a-a728-06449064ac8c",
   "metadata": {
    "tags": []
   },
   "outputs": [],
   "source": [
    "kf = KFold(n_splits = 5)"
   ]
  },
  {
   "cell_type": "code",
   "execution_count": 25,
   "id": "6d072c7f-f9f6-47c5-b6aa-768c5b66d194",
   "metadata": {
    "tags": []
   },
   "outputs": [],
   "source": [
    "accuracies = []\n",
    "for train_index,test_index in kf.split(X):\n",
    "    X_train,X_test = X[train_index],X[test_index]\n",
    "    y_train,y_test = y[train_index],y[test_index]\n",
    "    model.fit(X_train,y_train)\n",
    "    predictions = model.predict(X_test)\n",
    "    \n",
    "    accuracies.append(accuracy_score(y_test,predictions))\n",
    "    \n"
   ]
  },
  {
   "cell_type": "code",
   "execution_count": 26,
   "id": "64ddb434-5047-4be5-b241-a186a661c643",
   "metadata": {
    "tags": []
   },
   "outputs": [],
   "source": [
    "Average_accuracy = sum(accuracies)/len(accuracies)"
   ]
  },
  {
   "cell_type": "code",
   "execution_count": 27,
   "id": "5bb4fda1-5328-48bd-9935-6f301640ecae",
   "metadata": {
    "tags": []
   },
   "outputs": [
    {
     "data": {
      "text/plain": [
       "0.9266666666666665"
      ]
     },
     "execution_count": 27,
     "metadata": {},
     "output_type": "execute_result"
    }
   ],
   "source": [
    "Average_accuracy"
   ]
  },
  {
   "cell_type": "code",
   "execution_count": null,
   "id": "afbb4a6a-d5cf-413b-b456-4e205903bd96",
   "metadata": {},
   "outputs": [],
   "source": []
  }
 ],
 "metadata": {
  "kernelspec": {
   "display_name": "Python 3 (ipykernel)",
   "language": "python",
   "name": "python3"
  },
  "language_info": {
   "codemirror_mode": {
    "name": "ipython",
    "version": 3
   },
   "file_extension": ".py",
   "mimetype": "text/x-python",
   "name": "python",
   "nbconvert_exporter": "python",
   "pygments_lexer": "ipython3",
   "version": "3.11.5"
  }
 },
 "nbformat": 4,
 "nbformat_minor": 5
}
