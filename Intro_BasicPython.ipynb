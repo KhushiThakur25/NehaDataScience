{
 "cells": [
  {
   "cell_type": "code",
   "execution_count": 1,
   "id": "b9fd8f26-01d6-40b3-ab06-65c2d2a2006f",
   "metadata": {
    "tags": []
   },
   "outputs": [],
   "source": [
    "a= 5\n",
    "b = 6"
   ]
  },
  {
   "cell_type": "code",
   "execution_count": 2,
   "id": "31600825-87fc-4a64-b898-5a1cdde9d1bd",
   "metadata": {
    "tags": []
   },
   "outputs": [
    {
     "data": {
      "text/plain": [
       "11"
      ]
     },
     "execution_count": 2,
     "metadata": {},
     "output_type": "execute_result"
    }
   ],
   "source": [
    "a+b"
   ]
  },
  {
   "cell_type": "code",
   "execution_count": 3,
   "id": "7420219c-b889-4969-a0fb-4abb65fb3cb0",
   "metadata": {
    "tags": []
   },
   "outputs": [],
   "source": [
    "# Keywords & identifiers\n",
    "\n",
    "import keyword"
   ]
  },
  {
   "cell_type": "code",
   "execution_count": 5,
   "id": "ee3de519-dd8d-475e-8062-cfa38f7b7bc9",
   "metadata": {
    "tags": []
   },
   "outputs": [
    {
     "data": {
      "text/plain": [
       "['False',\n",
       " 'None',\n",
       " 'True',\n",
       " 'and',\n",
       " 'as',\n",
       " 'assert',\n",
       " 'async',\n",
       " 'await',\n",
       " 'break',\n",
       " 'class',\n",
       " 'continue',\n",
       " 'def',\n",
       " 'del',\n",
       " 'elif',\n",
       " 'else',\n",
       " 'except',\n",
       " 'finally',\n",
       " 'for',\n",
       " 'from',\n",
       " 'global',\n",
       " 'if',\n",
       " 'import',\n",
       " 'in',\n",
       " 'is',\n",
       " 'lambda',\n",
       " 'nonlocal',\n",
       " 'not',\n",
       " 'or',\n",
       " 'pass',\n",
       " 'raise',\n",
       " 'return',\n",
       " 'try',\n",
       " 'while',\n",
       " 'with',\n",
       " 'yield']"
      ]
     },
     "execution_count": 5,
     "metadata": {},
     "output_type": "execute_result"
    }
   ],
   "source": [
    "keyword.kwlist"
   ]
  },
  {
   "cell_type": "code",
   "execution_count": 6,
   "id": "8e0ad4b4-ab06-497c-9086-7fa00d059081",
   "metadata": {
    "tags": []
   },
   "outputs": [
    {
     "ename": "SyntaxError",
     "evalue": "invalid syntax (2735905449.py, line 1)",
     "output_type": "error",
     "traceback": [
      "\u001b[1;36m  Cell \u001b[1;32mIn[6], line 1\u001b[1;36m\u001b[0m\n\u001b[1;33m    while = 50\u001b[0m\n\u001b[1;37m          ^\u001b[0m\n\u001b[1;31mSyntaxError\u001b[0m\u001b[1;31m:\u001b[0m invalid syntax\n"
     ]
    }
   ],
   "source": [
    "while = 50"
   ]
  },
  {
   "cell_type": "code",
   "execution_count": 7,
   "id": "0d718832-05ad-405e-839f-19c6e1231ef7",
   "metadata": {
    "tags": []
   },
   "outputs": [],
   "source": [
    "name = \"Riya\""
   ]
  },
  {
   "cell_type": "code",
   "execution_count": 8,
   "id": "98e7b29b-1b5d-4a96-9eb4-25d28b4c7f23",
   "metadata": {
    "tags": []
   },
   "outputs": [],
   "source": [
    "Name = \"Siya\""
   ]
  },
  {
   "cell_type": "code",
   "execution_count": 9,
   "id": "99fa5678-3590-440b-ad00-2e23ca427fe4",
   "metadata": {
    "tags": []
   },
   "outputs": [
    {
     "ename": "SyntaxError",
     "evalue": "invalid syntax. Maybe you meant '==' or ':=' instead of '='? (3937760102.py, line 1)",
     "output_type": "error",
     "traceback": [
      "\u001b[1;36m  Cell \u001b[1;32mIn[9], line 1\u001b[1;36m\u001b[0m\n\u001b[1;33m    @name = 'jay'\u001b[0m\n\u001b[1;37m     ^\u001b[0m\n\u001b[1;31mSyntaxError\u001b[0m\u001b[1;31m:\u001b[0m invalid syntax. Maybe you meant '==' or ':=' instead of '='?\n"
     ]
    }
   ],
   "source": [
    "@name = 'jay'"
   ]
  },
  {
   "cell_type": "code",
   "execution_count": 10,
   "id": "0ca58fef-af6e-4079-8b91-e44fe2474841",
   "metadata": {
    "tags": []
   },
   "outputs": [
    {
     "ename": "SyntaxError",
     "evalue": "invalid decimal literal (3417321374.py, line 1)",
     "output_type": "error",
     "traceback": [
      "\u001b[1;36m  Cell \u001b[1;32mIn[10], line 1\u001b[1;36m\u001b[0m\n\u001b[1;33m    2name= \"om\"\u001b[0m\n\u001b[1;37m    ^\u001b[0m\n\u001b[1;31mSyntaxError\u001b[0m\u001b[1;31m:\u001b[0m invalid decimal literal\n"
     ]
    }
   ],
   "source": [
    "2name= \"om\""
   ]
  },
  {
   "cell_type": "code",
   "execution_count": 11,
   "id": "75f23b45-8f09-493d-80cd-ff8f2258af02",
   "metadata": {
    "tags": []
   },
   "outputs": [],
   "source": [
    "name_2 = \"Rohan\""
   ]
  },
  {
   "cell_type": "code",
   "execution_count": 13,
   "id": "8c80fa43-5585-4878-ae70-302d00bc2a36",
   "metadata": {
    "tags": []
   },
   "outputs": [
    {
     "ename": "SyntaxError",
     "evalue": "invalid syntax (1597285704.py, line 1)",
     "output_type": "error",
     "traceback": [
      "\u001b[1;36m  Cell \u001b[1;32mIn[13], line 1\u001b[1;36m\u001b[0m\n\u001b[1;33m    student Name = \"Amit\"\u001b[0m\n\u001b[1;37m            ^\u001b[0m\n\u001b[1;31mSyntaxError\u001b[0m\u001b[1;31m:\u001b[0m invalid syntax\n"
     ]
    }
   ],
   "source": [
    "student Name = \"Amit\" "
   ]
  },
  {
   "cell_type": "code",
   "execution_count": 14,
   "id": "cc6b3a4b-d17a-4799-8205-eb2ce5587c0c",
   "metadata": {
    "tags": []
   },
   "outputs": [],
   "source": [
    "# Data Types:\n",
    "#     integer\n",
    "#     float\n",
    "#     list\n",
    "#     string\n",
    "#     boolean\n",
    "#     None\n",
    "#     Dictionary\n",
    "#     tuple\n",
    "#     set\n"
   ]
  },
  {
   "cell_type": "code",
   "execution_count": 15,
   "id": "df951f5a-6a4a-442a-b015-2ecf61c7b3d7",
   "metadata": {
    "tags": []
   },
   "outputs": [
    {
     "data": {
      "text/plain": [
       "56"
      ]
     },
     "execution_count": 15,
     "metadata": {},
     "output_type": "execute_result"
    }
   ],
   "source": [
    "import sys\n",
    "sys.getsizeof([])"
   ]
  },
  {
   "cell_type": "code",
   "execution_count": 16,
   "id": "1006f07f-18f6-4ebd-aefb-8f3278b6e124",
   "metadata": {
    "tags": []
   },
   "outputs": [
    {
     "data": {
      "text/plain": [
       "40"
      ]
     },
     "execution_count": 16,
     "metadata": {},
     "output_type": "execute_result"
    }
   ],
   "source": [
    "sys.getsizeof(())"
   ]
  },
  {
   "cell_type": "code",
   "execution_count": 17,
   "id": "147f0986-9701-4bdb-8df8-5d5d729fa138",
   "metadata": {
    "tags": []
   },
   "outputs": [
    {
     "data": {
      "text/plain": [
       "28"
      ]
     },
     "execution_count": 17,
     "metadata": {},
     "output_type": "execute_result"
    }
   ],
   "source": [
    "sys.getsizeof(0)"
   ]
  },
  {
   "cell_type": "code",
   "execution_count": 18,
   "id": "99613093-8335-4236-80f8-56835fa1cbf5",
   "metadata": {
    "tags": []
   },
   "outputs": [
    {
     "data": {
      "text/plain": [
       "24"
      ]
     },
     "execution_count": 18,
     "metadata": {},
     "output_type": "execute_result"
    }
   ],
   "source": [
    "sys.getsizeof(0.1)"
   ]
  },
  {
   "cell_type": "code",
   "execution_count": 19,
   "id": "38c6bdb8-ec24-4f7e-b9ef-ca4ad8ec57e1",
   "metadata": {
    "tags": []
   },
   "outputs": [
    {
     "data": {
      "text/plain": [
       "216"
      ]
     },
     "execution_count": 19,
     "metadata": {},
     "output_type": "execute_result"
    }
   ],
   "source": [
    "sys.getsizeof(set())"
   ]
  },
  {
   "cell_type": "code",
   "execution_count": 24,
   "id": "88996d2e-e78f-455a-8fb3-481821af5888",
   "metadata": {
    "tags": []
   },
   "outputs": [
    {
     "data": {
      "text/plain": [
       "49"
      ]
     },
     "execution_count": 24,
     "metadata": {},
     "output_type": "execute_result"
    }
   ],
   "source": [
    "sys.getsizeof(\"\")"
   ]
  },
  {
   "cell_type": "code",
   "execution_count": 25,
   "id": "09fcc5a8-6964-429e-9953-189cca8badd2",
   "metadata": {
    "tags": []
   },
   "outputs": [
    {
     "data": {
      "text/plain": [
       "64"
      ]
     },
     "execution_count": 25,
     "metadata": {},
     "output_type": "execute_result"
    }
   ],
   "source": [
    "sys.getsizeof(dict())"
   ]
  },
  {
   "cell_type": "code",
   "execution_count": 27,
   "id": "a6ae2bfb-5328-4ff9-a72a-249ee102c5c5",
   "metadata": {
    "tags": []
   },
   "outputs": [
    {
     "data": {
      "text/plain": [
       "28"
      ]
     },
     "execution_count": 27,
     "metadata": {},
     "output_type": "execute_result"
    }
   ],
   "source": [
    "sys.getsizeof(False)"
   ]
  },
  {
   "cell_type": "code",
   "execution_count": 30,
   "id": "2715a155-809b-4bfe-9598-4d24dffb9f73",
   "metadata": {
    "tags": []
   },
   "outputs": [
    {
     "name": "stdout",
     "output_type": "stream",
     "text": [
      "Hello->5\n"
     ]
    }
   ],
   "source": [
    "print(\"Hello\",a,sep=\"->\")"
   ]
  },
  {
   "cell_type": "code",
   "execution_count": 33,
   "id": "48bfc459-f7d7-48f5-9170-b0842b572d1a",
   "metadata": {
    "tags": []
   },
   "outputs": [
    {
     "name": "stdout",
     "output_type": "stream",
     "text": [
      "hello hello\n",
      "hello\n"
     ]
    }
   ],
   "source": [
    "print(\"hello\",end = \" \")\n",
    "print(\"hello\")\n",
    "print(\"hello\")"
   ]
  },
  {
   "cell_type": "code",
   "execution_count": 42,
   "id": "feaa5cec-6284-4c28-ab97-b4484d5da37b",
   "metadata": {
    "tags": []
   },
   "outputs": [],
   "source": [
    "x = 100\n",
    "y = 36\n"
   ]
  },
  {
   "cell_type": "code",
   "execution_count": 35,
   "id": "77419f5a-d826-4f03-ac4d-b2a077207efe",
   "metadata": {
    "tags": []
   },
   "outputs": [
    {
     "name": "stdout",
     "output_type": "stream",
     "text": [
      "Sum of x and y is: 77\n"
     ]
    }
   ],
   "source": [
    "print(\"Sum of x and y is:\",x+y)"
   ]
  },
  {
   "cell_type": "code",
   "execution_count": 36,
   "id": "9a9ec68b-7b15-4c44-a8a4-3df79ceda48a",
   "metadata": {
    "tags": []
   },
   "outputs": [
    {
     "name": "stdout",
     "output_type": "stream",
     "text": [
      "Sum of 56 and 21 is: 77\n"
     ]
    }
   ],
   "source": [
    "print(\"Sum of\",x,\"and\",y,\"is:\",x+y)"
   ]
  },
  {
   "cell_type": "code",
   "execution_count": 39,
   "id": "f5c852eb-3967-4216-9ac0-ad07ec0856e7",
   "metadata": {
    "tags": []
   },
   "outputs": [
    {
     "name": "stdout",
     "output_type": "stream",
     "text": [
      "Div of 56 and 21 is: 2\n"
     ]
    }
   ],
   "source": [
    "print(\"Div of %d and %d is: %d\"%(x,y,x/y))"
   ]
  },
  {
   "cell_type": "code",
   "execution_count": 40,
   "id": "160e1ae2-5cee-4c1c-905f-b0121d1b4746",
   "metadata": {
    "tags": []
   },
   "outputs": [
    {
     "data": {
      "text/plain": [
       "2.6666666666666665"
      ]
     },
     "execution_count": 40,
     "metadata": {},
     "output_type": "execute_result"
    }
   ],
   "source": [
    "56/21"
   ]
  },
  {
   "cell_type": "code",
   "execution_count": 47,
   "id": "e1d83909-c466-48eb-98aa-8254bbfa1cb5",
   "metadata": {
    "tags": []
   },
   "outputs": [
    {
     "name": "stdout",
     "output_type": "stream",
     "text": [
      "Div of 100 and 36 is: 2.7777777777777777\n"
     ]
    }
   ],
   "source": [
    "print(\"Div of {} and {} is: {}\".format(x,y,x/y))"
   ]
  },
  {
   "cell_type": "code",
   "execution_count": 46,
   "id": "ba305487-eb02-4f4a-a2c2-38d36bb5e2b0",
   "metadata": {
    "tags": []
   },
   "outputs": [
    {
     "data": {
      "text/plain": [
       "0.36"
      ]
     },
     "execution_count": 46,
     "metadata": {},
     "output_type": "execute_result"
    }
   ],
   "source": [
    "36/100"
   ]
  },
  {
   "cell_type": "code",
   "execution_count": 49,
   "id": "59b99b38-6d79-42b4-be61-e59addff8c8d",
   "metadata": {
    "tags": []
   },
   "outputs": [
    {
     "name": "stdout",
     "output_type": "stream",
     "text": [
      "Div of 100 and 36 is 2.7777777777777777\n"
     ]
    }
   ],
   "source": [
    "print(f\"Div of {x} and {y} is {x/y}\")"
   ]
  },
  {
   "cell_type": "code",
   "execution_count": 50,
   "id": "7554a9ad-caa5-413e-ac27-00f7535dad1c",
   "metadata": {
    "tags": []
   },
   "outputs": [
    {
     "name": "stdin",
     "output_type": "stream",
     "text": [
      "Enter the num.. 55\n"
     ]
    }
   ],
   "source": [
    "num = input(\"Enter the num..\")"
   ]
  },
  {
   "cell_type": "code",
   "execution_count": 51,
   "id": "4206beb9-db89-4d0d-bbb4-c8f825305e42",
   "metadata": {
    "tags": []
   },
   "outputs": [
    {
     "name": "stdin",
     "output_type": "stream",
     "text": [
      "Enter the num_1 77\n"
     ]
    }
   ],
   "source": [
    "num_1 = input(\"Enter the num_1\")"
   ]
  },
  {
   "cell_type": "code",
   "execution_count": 52,
   "id": "770bf27b-ece2-4132-8157-bb48ab5059b0",
   "metadata": {
    "tags": []
   },
   "outputs": [
    {
     "data": {
      "text/plain": [
       "'5577'"
      ]
     },
     "execution_count": 52,
     "metadata": {},
     "output_type": "execute_result"
    }
   ],
   "source": [
    "num + num_1"
   ]
  },
  {
   "cell_type": "code",
   "execution_count": 53,
   "id": "a5de98be-16bb-4d36-90d1-123c831a0457",
   "metadata": {
    "tags": []
   },
   "outputs": [
    {
     "name": "stdin",
     "output_type": "stream",
     "text": [
      "Enter the value 55\n"
     ]
    }
   ],
   "source": [
    "n = int(input(\"Enter the value\"))"
   ]
  },
  {
   "cell_type": "code",
   "execution_count": 54,
   "id": "8db371b3-ce8a-48c1-91b9-d472d209ad29",
   "metadata": {
    "tags": []
   },
   "outputs": [
    {
     "name": "stdin",
     "output_type": "stream",
     "text": [
      "Enter the value 1 77\n"
     ]
    }
   ],
   "source": [
    "m = int(input(\"Enter the value 1\"))"
   ]
  },
  {
   "cell_type": "code",
   "execution_count": 55,
   "id": "3c4d42d1-2626-4808-a2c1-e46d9a0d6e84",
   "metadata": {
    "tags": []
   },
   "outputs": [
    {
     "data": {
      "text/plain": [
       "132"
      ]
     },
     "execution_count": 55,
     "metadata": {},
     "output_type": "execute_result"
    }
   ],
   "source": [
    "n + m"
   ]
  },
  {
   "cell_type": "code",
   "execution_count": 1,
   "id": "bfcdf75a-4c51-4a96-b90b-3dc15d3c6b6e",
   "metadata": {},
   "outputs": [],
   "source": [
    "n = 56\n"
   ]
  },
  {
   "cell_type": "code",
   "execution_count": 2,
   "id": "81c0a26e-b08b-422e-a318-763ace9c32e5",
   "metadata": {
    "tags": []
   },
   "outputs": [
    {
     "data": {
      "text/plain": [
       "76"
      ]
     },
     "execution_count": 2,
     "metadata": {},
     "output_type": "execute_result"
    }
   ],
   "source": [
    "n + 20"
   ]
  },
  {
   "cell_type": "code",
   "execution_count": 3,
   "id": "eb261186-3ff4-43f3-96a7-02d3d21a56ab",
   "metadata": {
    "tags": []
   },
   "outputs": [
    {
     "data": {
      "text/plain": [
       "56"
      ]
     },
     "execution_count": 3,
     "metadata": {},
     "output_type": "execute_result"
    }
   ],
   "source": [
    "n"
   ]
  },
  {
   "cell_type": "code",
   "execution_count": 4,
   "id": "5b6f8705-5fc6-46cc-ae01-1b6b5e8eb5ac",
   "metadata": {
    "tags": []
   },
   "outputs": [],
   "source": [
    "n = n + 20"
   ]
  },
  {
   "cell_type": "code",
   "execution_count": 5,
   "id": "a0272d83-1647-49b8-b7d5-b787eb46abdd",
   "metadata": {
    "tags": []
   },
   "outputs": [
    {
     "data": {
      "text/plain": [
       "76"
      ]
     },
     "execution_count": 5,
     "metadata": {},
     "output_type": "execute_result"
    }
   ],
   "source": [
    "n"
   ]
  },
  {
   "cell_type": "code",
   "execution_count": 6,
   "id": "6b0a5814-9c88-4cf5-aea7-0d6cf05526a3",
   "metadata": {
    "tags": []
   },
   "outputs": [
    {
     "data": {
      "text/plain": [
       "2"
      ]
     },
     "execution_count": 6,
     "metadata": {},
     "output_type": "execute_result"
    }
   ],
   "source": [
    "li = [2,3,5,6]\n",
    "li[0]"
   ]
  },
  {
   "cell_type": "code",
   "execution_count": 7,
   "id": "1f2ab1e2-fa52-4885-b931-7776b6923912",
   "metadata": {
    "tags": []
   },
   "outputs": [],
   "source": [
    "li[0] = 100"
   ]
  },
  {
   "cell_type": "code",
   "execution_count": 8,
   "id": "f6d44592-e035-42f5-bf75-dddc06d34594",
   "metadata": {
    "tags": []
   },
   "outputs": [
    {
     "data": {
      "text/plain": [
       "[100, 3, 5, 6]"
      ]
     },
     "execution_count": 8,
     "metadata": {},
     "output_type": "execute_result"
    }
   ],
   "source": [
    "li"
   ]
  },
  {
   "cell_type": "code",
   "execution_count": 9,
   "id": "fd9ec3d1-daf7-41a8-95e3-5b466eefc6cc",
   "metadata": {
    "tags": []
   },
   "outputs": [],
   "source": [
    "t = (1,2,4,5)"
   ]
  },
  {
   "cell_type": "code",
   "execution_count": 10,
   "id": "7a70a160-d4be-4faf-bc7f-3c90273baa3e",
   "metadata": {
    "tags": []
   },
   "outputs": [
    {
     "data": {
      "text/plain": [
       "1"
      ]
     },
     "execution_count": 10,
     "metadata": {},
     "output_type": "execute_result"
    }
   ],
   "source": [
    "t[0]"
   ]
  },
  {
   "cell_type": "code",
   "execution_count": 11,
   "id": "87195912-3fce-4f9e-91e3-f8493e466aeb",
   "metadata": {
    "tags": []
   },
   "outputs": [
    {
     "ename": "TypeError",
     "evalue": "'tuple' object does not support item assignment",
     "output_type": "error",
     "traceback": [
      "\u001b[1;31m---------------------------------------------------------------------------\u001b[0m",
      "\u001b[1;31mTypeError\u001b[0m                                 Traceback (most recent call last)",
      "Cell \u001b[1;32mIn[11], line 1\u001b[0m\n\u001b[1;32m----> 1\u001b[0m t[\u001b[38;5;241m0\u001b[39m] \u001b[38;5;241m=\u001b[39m \u001b[38;5;241m100\u001b[39m\n",
      "\u001b[1;31mTypeError\u001b[0m: 'tuple' object does not support item assignment"
     ]
    }
   ],
   "source": [
    "t[0] = 100"
   ]
  },
  {
   "cell_type": "code",
   "execution_count": 23,
   "id": "3f70be32-1657-4ec8-b062-226e7848b004",
   "metadata": {
    "tags": []
   },
   "outputs": [],
   "source": [
    "st = \"hello world\"\n",
    "st[0]\n",
    "st = \"mello world\""
   ]
  },
  {
   "cell_type": "code",
   "execution_count": 24,
   "id": "269883cf-d738-441e-a0a5-ca75e3b3269f",
   "metadata": {
    "tags": []
   },
   "outputs": [
    {
     "data": {
      "text/plain": [
       "'mello world'"
      ]
     },
     "execution_count": 24,
     "metadata": {},
     "output_type": "execute_result"
    }
   ],
   "source": [
    "st"
   ]
  },
  {
   "cell_type": "code",
   "execution_count": 14,
   "id": "4605399a-3ae0-4475-b8c9-9226fa0cf187",
   "metadata": {
    "tags": []
   },
   "outputs": [
    {
     "ename": "TypeError",
     "evalue": "'str' object doesn't support item deletion",
     "output_type": "error",
     "traceback": [
      "\u001b[1;31m---------------------------------------------------------------------------\u001b[0m",
      "\u001b[1;31mTypeError\u001b[0m                                 Traceback (most recent call last)",
      "Cell \u001b[1;32mIn[14], line 1\u001b[0m\n\u001b[1;32m----> 1\u001b[0m \u001b[38;5;28;01mdel\u001b[39;00m st[\u001b[38;5;241m0\u001b[39m]\n",
      "\u001b[1;31mTypeError\u001b[0m: 'str' object doesn't support item deletion"
     ]
    }
   ],
   "source": [
    "del st[0]"
   ]
  },
  {
   "cell_type": "code",
   "execution_count": 20,
   "id": "2e517ff0-fc33-4b4c-bf47-59206650e54a",
   "metadata": {
    "tags": []
   },
   "outputs": [],
   "source": [
    "a = 5\n",
    "b = 5"
   ]
  },
  {
   "cell_type": "code",
   "execution_count": 21,
   "id": "0c448e8b-d8b9-4107-9dba-57b145adec12",
   "metadata": {
    "tags": []
   },
   "outputs": [
    {
     "data": {
      "text/plain": [
       "True"
      ]
     },
     "execution_count": 21,
     "metadata": {},
     "output_type": "execute_result"
    }
   ],
   "source": [
    "a is b"
   ]
  },
  {
   "cell_type": "code",
   "execution_count": 22,
   "id": "5c5ce5f9-db5c-4826-9af6-dd388888c856",
   "metadata": {
    "tags": []
   },
   "outputs": [
    {
     "data": {
      "text/plain": [
       "(5, 5)"
      ]
     },
     "execution_count": 22,
     "metadata": {},
     "output_type": "execute_result"
    }
   ],
   "source": [
    "a,b"
   ]
  },
  {
   "cell_type": "code",
   "execution_count": 25,
   "id": "4c467aaf-e826-4ad9-b88a-37c10e4342fc",
   "metadata": {
    "tags": []
   },
   "outputs": [],
   "source": [
    "li1 = li.copy()"
   ]
  },
  {
   "cell_type": "code",
   "execution_count": 26,
   "id": "21a00b69-62f0-47ef-ad42-9fba8a68bfdb",
   "metadata": {
    "tags": []
   },
   "outputs": [
    {
     "data": {
      "text/plain": [
       "[100, 3, 5, 6]"
      ]
     },
     "execution_count": 26,
     "metadata": {},
     "output_type": "execute_result"
    }
   ],
   "source": [
    "li1"
   ]
  },
  {
   "cell_type": "code",
   "execution_count": 27,
   "id": "0ffb3d2c-8f6a-462f-9a09-8b62322cac31",
   "metadata": {
    "tags": []
   },
   "outputs": [
    {
     "data": {
      "text/plain": [
       "False"
      ]
     },
     "execution_count": 27,
     "metadata": {},
     "output_type": "execute_result"
    }
   ],
   "source": [
    "li1 is li"
   ]
  },
  {
   "cell_type": "code",
   "execution_count": null,
   "id": "21aab120-d6de-46ef-a5be-ebb8bb1e7715",
   "metadata": {},
   "outputs": [],
   "source": []
  }
 ],
 "metadata": {
  "kernelspec": {
   "display_name": "Python 3 (ipykernel)",
   "language": "python",
   "name": "python3"
  },
  "language_info": {
   "codemirror_mode": {
    "name": "ipython",
    "version": 3
   },
   "file_extension": ".py",
   "mimetype": "text/x-python",
   "name": "python",
   "nbconvert_exporter": "python",
   "pygments_lexer": "ipython3",
   "version": "3.11.5"
  }
 },
 "nbformat": 4,
 "nbformat_minor": 5
}
