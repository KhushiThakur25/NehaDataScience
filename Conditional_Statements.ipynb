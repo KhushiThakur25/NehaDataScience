{
 "cells": [
  {
   "cell_type": "code",
   "execution_count": 1,
   "id": "9b385939-3fb7-4872-a48a-400898d3c361",
   "metadata": {
    "tags": []
   },
   "outputs": [
    {
     "name": "stdout",
     "output_type": "stream",
     "text": [
      "Odd number..\n"
     ]
    }
   ],
   "source": [
    "#if-else\n",
    "#if-elif-else\n",
    "#nested if-else\n",
    "#elif - ladder\n",
    "n = 5\n",
    "\n",
    "if n%2 == 0:\n",
    "    print(\"Even number..\")\n",
    "else:\n",
    "    print(\"Odd number..\")"
   ]
  },
  {
   "cell_type": "code",
   "execution_count": 3,
   "id": "73e8c7d6-a8a4-4cba-bc2c-43ebf08612bb",
   "metadata": {
    "tags": []
   },
   "outputs": [
    {
     "name": "stdout",
     "output_type": "stream",
     "text": [
      "b is greatest..\n"
     ]
    }
   ],
   "source": [
    "a = 5\n",
    "b = 61\n",
    "c = 9\n",
    "\n",
    "if a > b and a > c:\n",
    "    print(\"a is greatest..\")\n",
    "elif b > a and b > c:\n",
    "    print(\"b is greatest..\")\n",
    "else:\n",
    "    print(\"c is greatest..\")"
   ]
  },
  {
   "cell_type": "code",
   "execution_count": 6,
   "id": "d749a027-5256-40f1-8465-95338300788c",
   "metadata": {
    "tags": []
   },
   "outputs": [
    {
     "name": "stdin",
     "output_type": "stream",
     "text": [
      "Enter the value of age.. 19\n"
     ]
    },
    {
     "name": "stdout",
     "output_type": "stream",
     "text": [
      "Welcome to gate no 1.\n"
     ]
    },
    {
     "name": "stdin",
     "output_type": "stream",
     "text": [
      "Enter your gender 1. Male 2. Female Male\n"
     ]
    },
    {
     "name": "stdout",
     "output_type": "stream",
     "text": [
      "Welcome to party..\n"
     ]
    }
   ],
   "source": [
    "age = int(input(\"Enter the value of age..\"))\n",
    "if age >= 18:\n",
    "    print(\"Welcome to gate no 1.\")\n",
    "    gender = input(\"Enter your gender 1. Male 2. Female\")\n",
    "    if gender == \"Male\":\n",
    "        print(\"Welcome to party..\")\n",
    "    else:\n",
    "        print(\"Not allowed\")\n",
    "else:\n",
    "    print(\"Exit\")"
   ]
  },
  {
   "cell_type": "code",
   "execution_count": null,
   "id": "09c6596b-3a15-4cc9-9517-01b38dc422c3",
   "metadata": {},
   "outputs": [],
   "source": []
  }
 ],
 "metadata": {
  "kernelspec": {
   "display_name": "Python 3 (ipykernel)",
   "language": "python",
   "name": "python3"
  },
  "language_info": {
   "codemirror_mode": {
    "name": "ipython",
    "version": 3
   },
   "file_extension": ".py",
   "mimetype": "text/x-python",
   "name": "python",
   "nbconvert_exporter": "python",
   "pygments_lexer": "ipython3",
   "version": "3.11.5"
  }
 },
 "nbformat": 4,
 "nbformat_minor": 5
}
