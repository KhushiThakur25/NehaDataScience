{
 "cells": [
  {
   "cell_type": "code",
   "execution_count": null,
   "id": "60b73159-a983-4bc3-98f6-ab1512e50714",
   "metadata": {},
   "outputs": [],
   "source": [
    "# Mean - Average value of data\n",
    "# Median - Middle value in sorted dataset\n",
    "# Mode - Most frequently occuring value\n",
    "# Variance - Spread of data around mean\n",
    "# Standard Deviation - Measure of dispersion\n",
    "# range - difference  between upper limit - lower limit\n",
    "# IQR (Interquartile Range) - Difference between Q3 and Q1.(detects outlier)\n",
    "# Skewness - Measure data Symmetry.\n",
    "# Kurtosis - Measures how peaked or flat the distribution is.\n",
    "# percentiles - shows how data is distributed.\n",
    "\n",
    "# Correlation Matrix = Shows relationship between variables.\n",
    "# Covariance Matrix = Measures relationship strength btw variables.\n",
    "# Z-score = value to detect outliers.\n",
    "# Probability Density Function(PDF) : probability distribution of data."
   ]
  },
  {
   "cell_type": "code",
   "execution_count": 2,
   "id": "a8a83796-a835-4dc8-a511-7362a8dc3c06",
   "metadata": {
    "tags": []
   },
   "outputs": [
    {
     "data": {
      "text/plain": [
       "1.4142135623730951"
      ]
     },
     "execution_count": 2,
     "metadata": {},
     "output_type": "execute_result"
    }
   ],
   "source": [
    "import math\n",
    "math.sqrt(2)"
   ]
  },
  {
   "cell_type": "code",
   "execution_count": 5,
   "id": "bb04f856-95e9-4c73-be2b-8cb0692cb44f",
   "metadata": {
    "tags": []
   },
   "outputs": [],
   "source": [
    "import numpy as np\n",
    "import pandas as pd\n",
    "from scipy import stats\n",
    "import matplotlib.pyplot as plt\n",
    "from scipy.stats import chi2_contingency"
   ]
  },
  {
   "cell_type": "code",
   "execution_count": 15,
   "id": "337e7a42-52ba-481c-bc69-08aeac579a4f",
   "metadata": {
    "tags": []
   },
   "outputs": [
    {
     "name": "stdout",
     "output_type": "stream",
     "text": [
      "Your mean value is : 18.454545454545453\n"
     ]
    }
   ],
   "source": [
    "data = [12,15,14,10,18,20,15,16,14,19,50]\n",
    "\n",
    "mean_value = np.mean(data)\n",
    "print(f\"Your mean value is : {mean_value}\")"
   ]
  },
  {
   "cell_type": "code",
   "execution_count": 6,
   "id": "59661b25-d3df-4193-88e0-135d54a2aede",
   "metadata": {
    "tags": []
   },
   "outputs": [
    {
     "name": "stdout",
     "output_type": "stream",
     "text": [
      "Your mean value is : 15.0\n"
     ]
    }
   ],
   "source": [
    "median_value = np.median(data)\n",
    "print(f\"Your medianvalue is : {median_value}\")"
   ]
  },
  {
   "cell_type": "code",
   "execution_count": 15,
   "id": "039d0baf-d828-4dde-9b8b-43399e38824c",
   "metadata": {
    "tags": []
   },
   "outputs": [
    {
     "data": {
      "text/plain": [
       "np.int64(14)"
      ]
     },
     "execution_count": 15,
     "metadata": {},
     "output_type": "execute_result"
    }
   ],
   "source": [
    "mode_value = stats.mode(data)[0]\n",
    "mode_value"
   ]
  },
  {
   "cell_type": "code",
   "execution_count": 20,
   "id": "0bc5b58d-c8ce-4ac7-80b6-207e084d31e9",
   "metadata": {
    "tags": []
   },
   "outputs": [
    {
     "data": {
      "text/plain": [
       "np.float64(9.566666666666666)"
      ]
     },
     "execution_count": 20,
     "metadata": {},
     "output_type": "execute_result"
    }
   ],
   "source": [
    "var_value = np.var(data,ddof = 1)\n",
    "var_value"
   ]
  },
  {
   "cell_type": "code",
   "execution_count": 21,
   "id": "6d070caf-1e30-4403-8171-fd1211e13c50",
   "metadata": {
    "tags": []
   },
   "outputs": [
    {
     "data": {
      "text/plain": [
       "np.float64(2.9342801502242417)"
      ]
     },
     "execution_count": 21,
     "metadata": {},
     "output_type": "execute_result"
    }
   ],
   "source": [
    "np.std(data)"
   ]
  },
  {
   "cell_type": "code",
   "execution_count": 22,
   "id": "b5f6ef4d-97c3-46c2-9700-8d6c77fbc79f",
   "metadata": {
    "tags": []
   },
   "outputs": [
    {
     "data": {
      "text/plain": [
       "np.int64(10)"
      ]
     },
     "execution_count": 22,
     "metadata": {},
     "output_type": "execute_result"
    }
   ],
   "source": [
    "np.max(data) - np.min(data)"
   ]
  },
  {
   "cell_type": "code",
   "execution_count": 29,
   "id": "dd81892b-e621-46e6-8b2d-1ad7f10451dd",
   "metadata": {
    "tags": []
   },
   "outputs": [],
   "source": [
    "q1 = np.percentile(data,25)\n",
    "q3 = np.percentile(data,75)"
   ]
  },
  {
   "cell_type": "code",
   "execution_count": 30,
   "id": "57b2cb3f-b344-4572-abf3-90ec491c014f",
   "metadata": {
    "tags": []
   },
   "outputs": [],
   "source": [
    "iqr = q3 - q1"
   ]
  },
  {
   "cell_type": "code",
   "execution_count": 31,
   "id": "5ee3439f-4097-449b-a131-7830e42d6887",
   "metadata": {
    "tags": []
   },
   "outputs": [
    {
     "data": {
      "text/plain": [
       "np.float64(4.5)"
      ]
     },
     "execution_count": 31,
     "metadata": {},
     "output_type": "execute_result"
    }
   ],
   "source": [
    "iqr"
   ]
  },
  {
   "cell_type": "code",
   "execution_count": 32,
   "id": "5e42ab9e-f3f4-4af7-b1f1-94f605ab39d1",
   "metadata": {
    "tags": []
   },
   "outputs": [],
   "source": [
    "upper_limit  = q3 + 1.5*iqr\n",
    "lower_limit = q1 - 1.5*iqr"
   ]
  },
  {
   "cell_type": "code",
   "execution_count": 33,
   "id": "66c2026f-1694-4dcc-8ade-1d03b9588edf",
   "metadata": {
    "tags": []
   },
   "outputs": [
    {
     "data": {
      "text/plain": [
       "(np.float64(25.25), np.float64(7.25))"
      ]
     },
     "execution_count": 33,
     "metadata": {},
     "output_type": "execute_result"
    }
   ],
   "source": [
    "upper_limit, lower_limit"
   ]
  },
  {
   "cell_type": "code",
   "execution_count": 34,
   "id": "9a5f338e-b346-402e-a34e-1804a3ee31fa",
   "metadata": {
    "tags": []
   },
   "outputs": [
    {
     "data": {
      "text/plain": [
       "np.float64(2.4726745193703477)"
      ]
     },
     "execution_count": 34,
     "metadata": {},
     "output_type": "execute_result"
    }
   ],
   "source": [
    "stats.skew(data)"
   ]
  },
  {
   "cell_type": "code",
   "execution_count": 35,
   "id": "f6576e51-fad7-4d3b-beb2-35f3a659d6cf",
   "metadata": {
    "tags": []
   },
   "outputs": [
    {
     "data": {
      "text/plain": [
       "np.float64(4.876212806040476)"
      ]
     },
     "execution_count": 35,
     "metadata": {},
     "output_type": "execute_result"
    }
   ],
   "source": [
    "stats.kurtosis(data)"
   ]
  },
  {
   "cell_type": "code",
   "execution_count": 12,
   "id": "8e868a26-8b23-4455-9274-e08e8e42177c",
   "metadata": {},
   "outputs": [],
   "source": [
    "df = pd.DataFrame({\n",
    "    'Hours_Studied':[1,2,3,4,5,6,7],\n",
    "    'Exam_Score':[50,92,60,62,90,75,40]\n",
    "})"
   ]
  },
  {
   "cell_type": "code",
   "execution_count": 13,
   "id": "51623cad-75ee-499d-b1dc-5cc6906b8fc7",
   "metadata": {
    "tags": []
   },
   "outputs": [
    {
     "data": {
      "text/html": [
       "<div>\n",
       "<style scoped>\n",
       "    .dataframe tbody tr th:only-of-type {\n",
       "        vertical-align: middle;\n",
       "    }\n",
       "\n",
       "    .dataframe tbody tr th {\n",
       "        vertical-align: top;\n",
       "    }\n",
       "\n",
       "    .dataframe thead th {\n",
       "        text-align: right;\n",
       "    }\n",
       "</style>\n",
       "<table border=\"1\" class=\"dataframe\">\n",
       "  <thead>\n",
       "    <tr style=\"text-align: right;\">\n",
       "      <th></th>\n",
       "      <th>Hours_Studied</th>\n",
       "      <th>Exam_Score</th>\n",
       "    </tr>\n",
       "  </thead>\n",
       "  <tbody>\n",
       "    <tr>\n",
       "      <th>Hours_Studied</th>\n",
       "      <td>1.000000</td>\n",
       "      <td>-0.133688</td>\n",
       "    </tr>\n",
       "    <tr>\n",
       "      <th>Exam_Score</th>\n",
       "      <td>-0.133688</td>\n",
       "      <td>1.000000</td>\n",
       "    </tr>\n",
       "  </tbody>\n",
       "</table>\n",
       "</div>"
      ],
      "text/plain": [
       "               Hours_Studied  Exam_Score\n",
       "Hours_Studied       1.000000   -0.133688\n",
       "Exam_Score         -0.133688    1.000000"
      ]
     },
     "execution_count": 13,
     "metadata": {},
     "output_type": "execute_result"
    }
   ],
   "source": [
    "data_2 = df.corr()\n",
    "data_2"
   ]
  },
  {
   "cell_type": "code",
   "execution_count": 14,
   "id": "3094d2b0-fb8c-41a2-801e-02a36683b2ce",
   "metadata": {
    "tags": []
   },
   "outputs": [
    {
     "data": {
      "text/html": [
       "<div>\n",
       "<style scoped>\n",
       "    .dataframe tbody tr th:only-of-type {\n",
       "        vertical-align: middle;\n",
       "    }\n",
       "\n",
       "    .dataframe tbody tr th {\n",
       "        vertical-align: top;\n",
       "    }\n",
       "\n",
       "    .dataframe thead th {\n",
       "        text-align: right;\n",
       "    }\n",
       "</style>\n",
       "<table border=\"1\" class=\"dataframe\">\n",
       "  <thead>\n",
       "    <tr style=\"text-align: right;\">\n",
       "      <th></th>\n",
       "      <th>Hours_Studied</th>\n",
       "      <th>Exam_Score</th>\n",
       "    </tr>\n",
       "  </thead>\n",
       "  <tbody>\n",
       "    <tr>\n",
       "      <th>Hours_Studied</th>\n",
       "      <td>4.666667</td>\n",
       "      <td>-5.666667</td>\n",
       "    </tr>\n",
       "    <tr>\n",
       "      <th>Exam_Score</th>\n",
       "      <td>-5.666667</td>\n",
       "      <td>385.000000</td>\n",
       "    </tr>\n",
       "  </tbody>\n",
       "</table>\n",
       "</div>"
      ],
      "text/plain": [
       "               Hours_Studied  Exam_Score\n",
       "Hours_Studied       4.666667   -5.666667\n",
       "Exam_Score         -5.666667  385.000000"
      ]
     },
     "execution_count": 14,
     "metadata": {},
     "output_type": "execute_result"
    }
   ],
   "source": [
    "data_1 = df.cov()\n",
    "data_1"
   ]
  },
  {
   "cell_type": "code",
   "execution_count": 10,
   "id": "72039dba-1a54-4b6e-9275-422919b5b299",
   "metadata": {
    "tags": []
   },
   "outputs": [],
   "source": [
    "data = [12,15,14,10,18,900,15,16,14,19,50]\n",
    "z_score = stats.zscore(data)"
   ]
  },
  {
   "cell_type": "code",
   "execution_count": 11,
   "id": "af8d6911-c1af-49c6-b4e4-acc18985b96c",
   "metadata": {
    "tags": []
   },
   "outputs": [
    {
     "data": {
      "text/plain": [
       "array([-0.34079875, -0.32897293, -0.33291487, -0.34868263, -0.3171471 ,\n",
       "        3.15964521, -0.32897293, -0.32503099, -0.33291487, -0.31320516,\n",
       "       -0.19100498])"
      ]
     },
     "execution_count": 11,
     "metadata": {},
     "output_type": "execute_result"
    }
   ],
   "source": [
    "z_score"
   ]
  },
  {
   "cell_type": "code",
   "execution_count": 12,
   "id": "d212da56-841e-4736-8e5e-95605de3ca19",
   "metadata": {
    "tags": []
   },
   "outputs": [
    {
     "data": {
      "text/plain": [
       "(array([5]),)"
      ]
     },
     "execution_count": 12,
     "metadata": {},
     "output_type": "execute_result"
    }
   ],
   "source": [
    "outliers = np.where(np.abs(z_score) > 3)\n",
    "outliers"
   ]
  },
  {
   "cell_type": "code",
   "execution_count": 35,
   "id": "cd50a44d-3a61-4003-8ce9-5cd4861d622b",
   "metadata": {
    "tags": []
   },
   "outputs": [],
   "source": [
    "mu = 0\n",
    "sigma = 4"
   ]
  },
  {
   "cell_type": "code",
   "execution_count": 36,
   "id": "cd3502da-d486-401f-81be-cb7e10f8ecb5",
   "metadata": {
    "tags": []
   },
   "outputs": [],
   "source": [
    "x = np.linspace(-4,4,1000)"
   ]
  },
  {
   "cell_type": "code",
   "execution_count": 37,
   "id": "74648041-7561-4afa-874c-d25c1d5318cc",
   "metadata": {
    "tags": []
   },
   "outputs": [],
   "source": [
    "pdf_values = norm.pdf(x,mu,sigma)"
   ]
  },
  {
   "cell_type": "code",
   "execution_count": 38,
   "id": "01b0947d-160e-4df0-b9e8-4c2e5cfa69fe",
   "metadata": {
    "tags": []
   },
   "outputs": [
    {
     "data": {
      "text/plain": [
       "1000"
      ]
     },
     "execution_count": 38,
     "metadata": {},
     "output_type": "execute_result"
    }
   ],
   "source": [
    "len(pdf_values)\n",
    "# 0.03247672 - 0.0323794\n",
    "# 9.731999999999796e-05\n"
   ]
  },
  {
   "cell_type": "code",
   "execution_count": 39,
   "id": "36232c01-ccda-4f87-96fa-dba31d6d4675",
   "metadata": {
    "tags": []
   },
   "outputs": [
    {
     "data": {
      "image/png": "[encoded data removed]",
      "text/plain": [
       "<Figure size 640x480 with 1 Axes>"
      ]
     },
     "metadata": {},
     "output_type": "display_data"
    }
   ],
   "source": [
    "plt.plot(x,pdf_values,label='Normal Distribution')\n",
    "plt.xlabel('x values')\n",
    "plt.ylabel('Probability Density')\n",
    "plt.title(\"Probability Density Function (PDF)\")\n",
    "plt.legend()\n",
    "plt.grid()\n",
    "plt.show()"
   ]
  },
  {
   "cell_type": "code",
   "execution_count": 45,
   "id": "3830e66e-fab5-4f53-b056-b59fad20d9ea",
   "metadata": {
    "tags": []
   },
   "outputs": [],
   "source": [
    "salaries = np.array([40000,42000,45000,47000,49000,1000000000])\n",
    "log_salaries = np.log(salaries)"
   ]
  },
  {
   "cell_type": "code",
   "execution_count": 47,
   "id": "3abc3006-69b6-4b6c-9b94-043290323e27",
   "metadata": {
    "tags": []
   },
   "outputs": [],
   "source": [
    "mu,sigma = np.mean(log_salaries),np.std(log_salaries)"
   ]
  },
  {
   "cell_type": "code",
   "execution_count": 48,
   "id": "06e23f78-81c5-4f05-b228-acb1103bae45",
   "metadata": {
    "tags": []
   },
   "outputs": [],
   "source": [
    "pdf_values = norm.pdf(log_salaries, mu,sigma)"
   ]
  },
  {
   "cell_type": "code",
   "execution_count": 53,
   "id": "2433ee1c-1422-4408-a7f9-304bd850704d",
   "metadata": {
    "tags": []
   },
   "outputs": [],
   "source": [
    "threshold = np.percentile(pdf_values,2)\n",
    "outliers = salaries[pdf_values < threshold]"
   ]
  },
  {
   "cell_type": "code",
   "execution_count": 54,
   "id": "2d3cc5b2-544b-4c62-aa2e-55a5f4f1ea8c",
   "metadata": {
    "tags": []
   },
   "outputs": [
    {
     "data": {
      "text/plain": [
       "array([1000000000])"
      ]
     },
     "execution_count": 54,
     "metadata": {},
     "output_type": "execute_result"
    }
   ],
   "source": [
    "outliers"
   ]
  },
  {
   "cell_type": "code",
   "execution_count": 6,
   "id": "4791ce2a-0ba5-4bfc-a8d3-f544ed2bd335",
   "metadata": {},
   "outputs": [],
   "source": [
    "data = np.array([50,55,60,62,65,68,70,75,80,100])\n",
    "chi2 , p, dof, expected = chi2_contingency(data)"
   ]
  },
  {
   "cell_type": "code",
   "execution_count": 7,
   "id": "4603086f-ad14-44f9-92e5-30a091518227",
   "metadata": {
    "tags": []
   },
   "outputs": [
    {
     "data": {
      "text/plain": [
       "(0.0,\n",
       " 1.0,\n",
       " 0,\n",
       " array([ 50.,  55.,  60.,  62.,  65.,  68.,  70.,  75.,  80., 100.]))"
      ]
     },
     "execution_count": 7,
     "metadata": {},
     "output_type": "execute_result"
    }
   ],
   "source": [
    "chi2 , p , dof , expected"
   ]
  },
  {
   "cell_type": "code",
   "execution_count": 11,
   "id": "c0d4f091-10f5-4394-b144-dbd554241924",
   "metadata": {
    "tags": []
   },
   "outputs": [],
   "source": [
    "data = np.array([[50,30],\n",
    "                 [70,50]])"
   ]
  },
  {
   "cell_type": "code",
   "execution_count": 12,
   "id": "0197d89a-8b5a-44d0-adec-aee28983d929",
   "metadata": {
    "tags": []
   },
   "outputs": [],
   "source": [
    "chi2 , p, dof, expected = chi2_contingency(data,correction = False)"
   ]
  },
  {
   "cell_type": "code",
   "execution_count": 13,
   "id": "92a5e9ab-2a3f-4651-8935-51adae71445d",
   "metadata": {
    "tags": []
   },
   "outputs": [
    {
     "data": {
      "text/plain": [
       "(np.float64(0.34722222222222215),\n",
       " np.float64(0.5556897902827946),\n",
       " 1,\n",
       " array([[48., 32.],\n",
       "        [72., 48.]]))"
      ]
     },
     "execution_count": 13,
     "metadata": {},
     "output_type": "execute_result"
    }
   ],
   "source": [
    "chi2 , p, dof, expected"
   ]
  },
  {
   "cell_type": "code",
   "execution_count": null,
   "id": "344b0c92-f08b-4ef0-a43a-4609f9fafe9b",
   "metadata": {},
   "outputs": [],
   "source": []
  }
 ],
 "metadata": {
  "kernelspec": {
   "display_name": "Python 3 (ipykernel)",
   "language": "python",
   "name": "python3"
  },
  "language_info": {
   "codemirror_mode": {
    "name": "ipython",
    "version": 3
   },
   "file_extension": ".py",
   "mimetype": "text/x-python",
   "name": "python",
   "nbconvert_exporter": "python",
   "pygments_lexer": "ipython3",
   "version": "3.11.5"
  }
 },
 "nbformat": 4,
 "nbformat_minor": 5
}
