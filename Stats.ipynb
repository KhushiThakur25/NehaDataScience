{
 "cells": [
  {
   "cell_type": "code",
   "execution_count": null,
   "id": "60b73159-a983-4bc3-98f6-ab1512e50714",
   "metadata": {},
   "outputs": [],
   "source": [
    "# Mean - Average value of data\n",
    "# Median - Middle value in sorted dataset\n",
    "# Mode - Most frequently occuring value\n",
    "# Variance - Spread of data around mean\n",
    "# Standard Deviation - Measure of dispersion\n",
    "# range - difference  between upper limit - lower limit\n",
    "# IQR (Interquartile Range) - Difference between Q3 and Q1.(detects outlier)\n",
    "# Skewness - Measure data Symmetry.\n",
    "# Kurtosis - Measures how peaked or flat the distribution is.\n",
    "# percentiles - shows how data is distributed."
   ]
  },
  {
   "cell_type": "code",
   "execution_count": 2,
   "id": "a8a83796-a835-4dc8-a511-7362a8dc3c06",
   "metadata": {
    "tags": []
   },
   "outputs": [
    {
     "data": {
      "text/plain": [
       "1.4142135623730951"
      ]
     },
     "execution_count": 2,
     "metadata": {},
     "output_type": "execute_result"
    }
   ],
   "source": [
    "import math\n",
    "math.sqrt(2)"
   ]
  },
  {
   "cell_type": "code",
   "execution_count": 4,
   "id": "bb04f856-95e9-4c73-be2b-8cb0692cb44f",
   "metadata": {
    "tags": []
   },
   "outputs": [],
   "source": [
    "import numpy as np\n",
    "import pandas as pd\n",
    "from scipy import stats"
   ]
  },
  {
   "cell_type": "code",
   "execution_count": 28,
   "id": "337e7a42-52ba-481c-bc69-08aeac579a4f",
   "metadata": {
    "tags": []
   },
   "outputs": [
    {
     "name": "stdout",
     "output_type": "stream",
     "text": [
      "Your mean value is : 18.454545454545453\n"
     ]
    }
   ],
   "source": [
    "data = [12,15,14,10,18,20,15,16,14,19,50]\n",
    "\n",
    "mean_value = np.mean(data)\n",
    "print(f\"Your mean value is : {mean_value}\")"
   ]
  },
  {
   "cell_type": "code",
   "execution_count": 6,
   "id": "59661b25-d3df-4193-88e0-135d54a2aede",
   "metadata": {
    "tags": []
   },
   "outputs": [
    {
     "name": "stdout",
     "output_type": "stream",
     "text": [
      "Your mean value is : 15.0\n"
     ]
    }
   ],
   "source": [
    "median_value = np.median(data)\n",
    "print(f\"Your medianvalue is : {median_value}\")"
   ]
  },
  {
   "cell_type": "code",
   "execution_count": 15,
   "id": "039d0baf-d828-4dde-9b8b-43399e38824c",
   "metadata": {
    "tags": []
   },
   "outputs": [
    {
     "data": {
      "text/plain": [
       "np.int64(14)"
      ]
     },
     "execution_count": 15,
     "metadata": {},
     "output_type": "execute_result"
    }
   ],
   "source": [
    "mode_value = stats.mode(data)[0]\n",
    "mode_value"
   ]
  },
  {
   "cell_type": "code",
   "execution_count": 20,
   "id": "0bc5b58d-c8ce-4ac7-80b6-207e084d31e9",
   "metadata": {
    "tags": []
   },
   "outputs": [
    {
     "data": {
      "text/plain": [
       "np.float64(9.566666666666666)"
      ]
     },
     "execution_count": 20,
     "metadata": {},
     "output_type": "execute_result"
    }
   ],
   "source": [
    "var_value = np.var(data,ddof = 1)\n",
    "var_value"
   ]
  },
  {
   "cell_type": "code",
   "execution_count": 21,
   "id": "6d070caf-1e30-4403-8171-fd1211e13c50",
   "metadata": {
    "tags": []
   },
   "outputs": [
    {
     "data": {
      "text/plain": [
       "np.float64(2.9342801502242417)"
      ]
     },
     "execution_count": 21,
     "metadata": {},
     "output_type": "execute_result"
    }
   ],
   "source": [
    "np.std(data)"
   ]
  },
  {
   "cell_type": "code",
   "execution_count": 22,
   "id": "b5f6ef4d-97c3-46c2-9700-8d6c77fbc79f",
   "metadata": {
    "tags": []
   },
   "outputs": [
    {
     "data": {
      "text/plain": [
       "np.int64(10)"
      ]
     },
     "execution_count": 22,
     "metadata": {},
     "output_type": "execute_result"
    }
   ],
   "source": [
    "np.max(data) - np.min(data)"
   ]
  },
  {
   "cell_type": "code",
   "execution_count": 29,
   "id": "dd81892b-e621-46e6-8b2d-1ad7f10451dd",
   "metadata": {
    "tags": []
   },
   "outputs": [],
   "source": [
    "q1 = np.percentile(data,25)\n",
    "q3 = np.percentile(data,75)"
   ]
  },
  {
   "cell_type": "code",
   "execution_count": 30,
   "id": "57b2cb3f-b344-4572-abf3-90ec491c014f",
   "metadata": {
    "tags": []
   },
   "outputs": [],
   "source": [
    "iqr = q3 - q1"
   ]
  },
  {
   "cell_type": "code",
   "execution_count": 31,
   "id": "5ee3439f-4097-449b-a131-7830e42d6887",
   "metadata": {
    "tags": []
   },
   "outputs": [
    {
     "data": {
      "text/plain": [
       "np.float64(4.5)"
      ]
     },
     "execution_count": 31,
     "metadata": {},
     "output_type": "execute_result"
    }
   ],
   "source": [
    "iqr"
   ]
  },
  {
   "cell_type": "code",
   "execution_count": 32,
   "id": "5e42ab9e-f3f4-4af7-b1f1-94f605ab39d1",
   "metadata": {
    "tags": []
   },
   "outputs": [],
   "source": [
    "upper_limit  = q3 + 1.5*iqr\n",
    "lower_limit = q1 - 1.5*iqr"
   ]
  },
  {
   "cell_type": "code",
   "execution_count": 33,
   "id": "66c2026f-1694-4dcc-8ade-1d03b9588edf",
   "metadata": {
    "tags": []
   },
   "outputs": [
    {
     "data": {
      "text/plain": [
       "(np.float64(25.25), np.float64(7.25))"
      ]
     },
     "execution_count": 33,
     "metadata": {},
     "output_type": "execute_result"
    }
   ],
   "source": [
    "upper_limit, lower_limit"
   ]
  },
  {
   "cell_type": "code",
   "execution_count": 34,
   "id": "9a5f338e-b346-402e-a34e-1804a3ee31fa",
   "metadata": {
    "tags": []
   },
   "outputs": [
    {
     "data": {
      "text/plain": [
       "np.float64(2.4726745193703477)"
      ]
     },
     "execution_count": 34,
     "metadata": {},
     "output_type": "execute_result"
    }
   ],
   "source": [
    "stats.skew(data)"
   ]
  },
  {
   "cell_type": "code",
   "execution_count": 35,
   "id": "f6576e51-fad7-4d3b-beb2-35f3a659d6cf",
   "metadata": {
    "tags": []
   },
   "outputs": [
    {
     "data": {
      "text/plain": [
       "np.float64(4.876212806040476)"
      ]
     },
     "execution_count": 35,
     "metadata": {},
     "output_type": "execute_result"
    }
   ],
   "source": [
    "stats.kurtosis(data)"
   ]
  },
  {
   "cell_type": "code",
   "execution_count": null,
   "id": "8e868a26-8b23-4455-9274-e08e8e42177c",
   "metadata": {},
   "outputs": [],
   "source": []
  }
 ],
 "metadata": {
  "kernelspec": {
   "display_name": "Python 3 (ipykernel)",
   "language": "python",
   "name": "python3"
  },
  "language_info": {
   "codemirror_mode": {
    "name": "ipython",
    "version": 3
   },
   "file_extension": ".py",
   "mimetype": "text/x-python",
   "name": "python",
   "nbconvert_exporter": "python",
   "pygments_lexer": "ipython3",
   "version": "3.11.5"
  }
 },
 "nbformat": 4,
 "nbformat_minor": 5
}
