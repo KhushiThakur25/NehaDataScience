{
 "cells": [
  {
   "cell_type": "code",
   "execution_count": 57,
   "id": "1fde1a51-99d4-4116-9f2d-842bdf822f15",
   "metadata": {
    "tags": []
   },
   "outputs": [],
   "source": [
    "import urllib.request as url\n",
    "import bs4"
   ]
  },
  {
   "cell_type": "code",
   "execution_count": 37,
   "id": "ee544f6b-6e59-4151-b241-a9f68dd304c1",
   "metadata": {
    "tags": []
   },
   "outputs": [],
   "source": [
    "path = 'https://www.flipkart.com/search?q=iphone+15'\n",
    "response = url.urlopen(path)"
   ]
  },
  {
   "cell_type": "code",
   "execution_count": 59,
   "id": "5772f40f-003c-4769-a866-43197f9e40ba",
   "metadata": {
    "tags": []
   },
   "outputs": [
    {
     "data": {
      "text/plain": []
     },
     "execution_count": 59,
     "metadata": {},
     "output_type": "execute_result"
    }
   ],
   "source": [
    "source_code = bs4.BeautifulSoup(response)\n",
    "source_code"
   ]
  },
  {
   "cell_type": "code",
   "execution_count": 55,
   "id": "1d722fb1-1cb5-4811-a3e8-9ee2592efb81",
   "metadata": {
    "tags": []
   },
   "outputs": [],
   "source": [
    "price = source_code.find('h2',attrs = {'class':\"_3ZeUN+\"})"
   ]
  },
  {
   "cell_type": "code",
   "execution_count": 56,
   "id": "481157b1-fc5a-4ebf-bbd1-a7536ff34ac8",
   "metadata": {
    "tags": []
   },
   "outputs": [],
   "source": [
    "price"
   ]
  },
  {
   "cell_type": "code",
   "execution_count": 47,
   "id": "baf1c258-88ac-4641-b758-a21cbfdcbbd6",
   "metadata": {},
   "outputs": [],
   "source": [
    "prices = source_code.find_all('div',attrs = {'class':\"Nx9bqj _4b5DiR\"})"
   ]
  },
  {
   "cell_type": "code",
   "execution_count": 48,
   "id": "fb06a1ec-bbf2-4f8d-9d6b-f2d3f67d0f68",
   "metadata": {
    "tags": []
   },
   "outputs": [
    {
     "data": {
      "text/plain": [
       "[<div class=\"Nx9bqj _4b5DiR\">₹58,999</div>,\n",
       " <div class=\"Nx9bqj _4b5DiR\">₹79,900</div>,\n",
       " <div class=\"Nx9bqj _4b5DiR\">₹58,999</div>,\n",
       " <div class=\"Nx9bqj _4b5DiR\">₹79,900</div>,\n",
       " <div class=\"Nx9bqj _4b5DiR\">₹58,999</div>,\n",
       " <div class=\"Nx9bqj _4b5DiR\">₹89,900</div>,\n",
       " <div class=\"Nx9bqj _4b5DiR\">₹79,900</div>,\n",
       " <div class=\"Nx9bqj _4b5DiR\">₹89,900</div>,\n",
       " <div class=\"Nx9bqj _4b5DiR\">₹62,999</div>,\n",
       " <div class=\"Nx9bqj _4b5DiR\">₹89,900</div>,\n",
       " <div class=\"Nx9bqj _4b5DiR\">₹79,900</div>,\n",
       " <div class=\"Nx9bqj _4b5DiR\">₹79,900</div>,\n",
       " <div class=\"Nx9bqj _4b5DiR\">₹58,999</div>,\n",
       " <div class=\"Nx9bqj _4b5DiR\">₹79,900</div>,\n",
       " <div class=\"Nx9bqj _4b5DiR\">₹89,900</div>,\n",
       " <div class=\"Nx9bqj _4b5DiR\">₹79,900</div>,\n",
       " <div class=\"Nx9bqj _4b5DiR\">₹99,900</div>,\n",
       " <div class=\"Nx9bqj _4b5DiR\">₹79,900</div>,\n",
       " <div class=\"Nx9bqj _4b5DiR\">₹99,900</div>,\n",
       " <div class=\"Nx9bqj _4b5DiR\">₹99,900</div>,\n",
       " <div class=\"Nx9bqj _4b5DiR\">₹79,900</div>,\n",
       " <div class=\"Nx9bqj _4b5DiR\">₹58,999</div>,\n",
       " <div class=\"Nx9bqj _4b5DiR\">₹99,900</div>,\n",
       " <div class=\"Nx9bqj _4b5DiR\">₹99,900</div>]"
      ]
     },
     "execution_count": 48,
     "metadata": {},
     "output_type": "execute_result"
    }
   ],
   "source": [
    "prices"
   ]
  },
  {
   "cell_type": "code",
   "execution_count": null,
   "id": "37373a6b-27e7-4970-bb1e-74c432e10aa5",
   "metadata": {},
   "outputs": [],
   "source": []
  }
 ],
 "metadata": {
  "kernelspec": {
   "display_name": "Python 3 (ipykernel)",
   "language": "python",
   "name": "python3"
  },
  "language_info": {
   "codemirror_mode": {
    "name": "ipython",
    "version": 3
   },
   "file_extension": ".py",
   "mimetype": "text/x-python",
   "name": "python",
   "nbconvert_exporter": "python",
   "pygments_lexer": "ipython3",
   "version": "3.11.5"
  }
 },
 "nbformat": 4,
 "nbformat_minor": 5
}
