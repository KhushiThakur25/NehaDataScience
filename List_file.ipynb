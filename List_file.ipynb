{
 "cells": [
  {
   "cell_type": "code",
   "execution_count": 1,
   "id": "3a2925e9-5fd7-4cc3-a98a-21ab9833e4a7",
   "metadata": {
    "tags": []
   },
   "outputs": [],
   "source": [
    "li = list()"
   ]
  },
  {
   "cell_type": "code",
   "execution_count": 3,
   "id": "39699ca3-62b2-4356-8ace-17b7be9f0b85",
   "metadata": {
    "tags": []
   },
   "outputs": [],
   "source": [
    "li1 = [1,2,3,4,56,8,95,2,3]"
   ]
  },
  {
   "cell_type": "code",
   "execution_count": 4,
   "id": "441f8d57-51ae-4d69-a008-b3ba1a989103",
   "metadata": {
    "tags": []
   },
   "outputs": [
    {
     "data": {
      "text/plain": [
       "[1, 2, 3, 4, 56, 8, 95, 2, 3]"
      ]
     },
     "execution_count": 4,
     "metadata": {},
     "output_type": "execute_result"
    }
   ],
   "source": [
    "li1"
   ]
  },
  {
   "cell_type": "code",
   "execution_count": 5,
   "id": "d8acc841-3e05-46de-a433-5d46f64284e4",
   "metadata": {
    "tags": []
   },
   "outputs": [],
   "source": [
    "li1.append(100)"
   ]
  },
  {
   "cell_type": "code",
   "execution_count": 6,
   "id": "a1caca4b-2d80-42c6-921f-a5d99bf35790",
   "metadata": {
    "tags": []
   },
   "outputs": [
    {
     "data": {
      "text/plain": [
       "[1, 2, 3, 4, 56, 8, 95, 2, 3, 100]"
      ]
     },
     "execution_count": 6,
     "metadata": {},
     "output_type": "execute_result"
    }
   ],
   "source": [
    "li1"
   ]
  },
  {
   "cell_type": "code",
   "execution_count": 7,
   "id": "f46ac528-90e5-4574-a0e2-3f85bc825e89",
   "metadata": {
    "tags": []
   },
   "outputs": [
    {
     "data": {
      "text/plain": [
       "2"
      ]
     },
     "execution_count": 7,
     "metadata": {},
     "output_type": "execute_result"
    }
   ],
   "source": [
    "li1.index(3)"
   ]
  },
  {
   "cell_type": "code",
   "execution_count": 8,
   "id": "fa059556-6b23-4a7a-a52f-86353527c398",
   "metadata": {
    "tags": []
   },
   "outputs": [],
   "source": [
    "li1[2] = 300"
   ]
  },
  {
   "cell_type": "code",
   "execution_count": 9,
   "id": "8a2eb9ee-7d26-4aa4-9c6d-a50f7b7bccfd",
   "metadata": {
    "tags": []
   },
   "outputs": [
    {
     "data": {
      "text/plain": [
       "[1, 2, 300, 4, 56, 8, 95, 2, 3, 100]"
      ]
     },
     "execution_count": 9,
     "metadata": {},
     "output_type": "execute_result"
    }
   ],
   "source": [
    "li1"
   ]
  },
  {
   "cell_type": "code",
   "execution_count": 10,
   "id": "2245cff2-2674-4d2b-9ea6-f57244acbb7f",
   "metadata": {
    "tags": []
   },
   "outputs": [],
   "source": [
    "li1.insert(3,5)"
   ]
  },
  {
   "cell_type": "code",
   "execution_count": 11,
   "id": "148fb1a1-e2bb-4aab-a466-1714d1112132",
   "metadata": {
    "tags": []
   },
   "outputs": [
    {
     "data": {
      "text/plain": [
       "[1, 2, 300, 5, 4, 56, 8, 95, 2, 3, 100]"
      ]
     },
     "execution_count": 11,
     "metadata": {},
     "output_type": "execute_result"
    }
   ],
   "source": [
    "li1"
   ]
  },
  {
   "cell_type": "code",
   "execution_count": 12,
   "id": "aa13dba9-90c2-4297-9be3-8427e6658e6e",
   "metadata": {
    "tags": []
   },
   "outputs": [
    {
     "data": {
      "text/plain": [
       "11"
      ]
     },
     "execution_count": 12,
     "metadata": {},
     "output_type": "execute_result"
    }
   ],
   "source": [
    "len(li1)"
   ]
  },
  {
   "cell_type": "code",
   "execution_count": 13,
   "id": "af055fbd-68ce-47ce-bffd-14db30edc362",
   "metadata": {
    "tags": []
   },
   "outputs": [
    {
     "data": {
      "text/plain": [
       "100"
      ]
     },
     "execution_count": 13,
     "metadata": {},
     "output_type": "execute_result"
    }
   ],
   "source": [
    "li1.pop()"
   ]
  },
  {
   "cell_type": "code",
   "execution_count": 14,
   "id": "2291c60a-af60-45dc-8974-e43e939ab3b4",
   "metadata": {
    "tags": []
   },
   "outputs": [],
   "source": [
    "li1.remove(300)"
   ]
  },
  {
   "cell_type": "code",
   "execution_count": 15,
   "id": "766bc42f-93b2-475c-97b7-67f77629128c",
   "metadata": {
    "tags": []
   },
   "outputs": [
    {
     "data": {
      "text/plain": [
       "[1, 2, 5, 4, 56, 8, 95, 2, 3]"
      ]
     },
     "execution_count": 15,
     "metadata": {},
     "output_type": "execute_result"
    }
   ],
   "source": [
    "li1"
   ]
  },
  {
   "cell_type": "code",
   "execution_count": 16,
   "id": "3ff62cd7-c7f4-48a9-a745-245860af2470",
   "metadata": {
    "tags": []
   },
   "outputs": [],
   "source": [
    "li = [85,41,2]\n",
    "li.append(li1)"
   ]
  },
  {
   "cell_type": "code",
   "execution_count": 17,
   "id": "be3fb155-b3d7-400e-b0cb-142595a39c24",
   "metadata": {
    "tags": []
   },
   "outputs": [
    {
     "data": {
      "text/plain": [
       "[85, 41, 2, [1, 2, 5, 4, 56, 8, 95, 2, 3]]"
      ]
     },
     "execution_count": 17,
     "metadata": {},
     "output_type": "execute_result"
    }
   ],
   "source": [
    "li"
   ]
  },
  {
   "cell_type": "code",
   "execution_count": 18,
   "id": "5fbf34d0-c8ab-43bd-8d2e-4ed0ead80935",
   "metadata": {
    "tags": []
   },
   "outputs": [
    {
     "data": {
      "text/plain": [
       "[1, 2, 5, 4, 56, 8, 95, 2, 3]"
      ]
     },
     "execution_count": 18,
     "metadata": {},
     "output_type": "execute_result"
    }
   ],
   "source": [
    "li[3]"
   ]
  },
  {
   "cell_type": "code",
   "execution_count": 21,
   "id": "9e24be5b-637e-45ed-824c-01408bda9aa2",
   "metadata": {
    "tags": []
   },
   "outputs": [],
   "source": [
    "li = li + li1"
   ]
  },
  {
   "cell_type": "code",
   "execution_count": 23,
   "id": "ac926cc1-d08c-418e-937b-a25fdc6b5614",
   "metadata": {
    "tags": []
   },
   "outputs": [],
   "source": [
    "li.remove( [1, 2, 5, 4, 56, 8, 95, 2, 3])"
   ]
  },
  {
   "cell_type": "code",
   "execution_count": 24,
   "id": "ea580230-03b1-49ef-8531-92a27896e983",
   "metadata": {
    "tags": []
   },
   "outputs": [
    {
     "data": {
      "text/plain": [
       "[85, 41, 2, 1, 2, 5, 4, 56, 8, 95, 2, 3]"
      ]
     },
     "execution_count": 24,
     "metadata": {},
     "output_type": "execute_result"
    }
   ],
   "source": [
    "li"
   ]
  },
  {
   "cell_type": "code",
   "execution_count": 25,
   "id": "beaa43aa-be70-45f1-86f2-a2a20aecef6c",
   "metadata": {
    "tags": []
   },
   "outputs": [],
   "source": [
    "li.extend([5,2])"
   ]
  },
  {
   "cell_type": "code",
   "execution_count": 26,
   "id": "96591eac-4174-42ca-9cec-6044220ed5e1",
   "metadata": {
    "tags": []
   },
   "outputs": [
    {
     "data": {
      "text/plain": [
       "[85, 41, 2, 1, 2, 5, 4, 56, 8, 95, 2, 3, 5, 2]"
      ]
     },
     "execution_count": 26,
     "metadata": {},
     "output_type": "execute_result"
    }
   ],
   "source": [
    "li"
   ]
  },
  {
   "cell_type": "code",
   "execution_count": 27,
   "id": "e79c8d2d-804c-46a9-adc4-561aef625e6a",
   "metadata": {
    "tags": []
   },
   "outputs": [],
   "source": [
    "li.insert(3,[2,3])"
   ]
  },
  {
   "cell_type": "code",
   "execution_count": 29,
   "id": "dd10069e-fd75-4d2b-9dd1-eddc9135ea43",
   "metadata": {
    "tags": []
   },
   "outputs": [],
   "source": [
    "li.remove([2,3])"
   ]
  },
  {
   "cell_type": "code",
   "execution_count": 30,
   "id": "2c5ca8cd-bd46-4d3d-9c0d-a5a02e1064ea",
   "metadata": {
    "tags": []
   },
   "outputs": [
    {
     "data": {
      "text/plain": [
       "[85, 41, 2, 1, 2, 5, 4, 56, 8, 95, 2, 3, 5, 2]"
      ]
     },
     "execution_count": 30,
     "metadata": {},
     "output_type": "execute_result"
    }
   ],
   "source": [
    "li"
   ]
  },
  {
   "cell_type": "code",
   "execution_count": 31,
   "id": "f663cc73-3ef3-44a2-8508-bd986fc3a73c",
   "metadata": {
    "tags": []
   },
   "outputs": [],
   "source": [
    "li.reverse()"
   ]
  },
  {
   "cell_type": "code",
   "execution_count": 32,
   "id": "45ad619e-98c7-4fdd-837b-61899b2b661f",
   "metadata": {
    "tags": []
   },
   "outputs": [
    {
     "data": {
      "text/plain": [
       "[2, 5, 3, 2, 95, 8, 56, 4, 5, 2, 1, 2, 41, 85]"
      ]
     },
     "execution_count": 32,
     "metadata": {},
     "output_type": "execute_result"
    }
   ],
   "source": [
    "li"
   ]
  },
  {
   "cell_type": "code",
   "execution_count": 33,
   "id": "1b44fe4a-3ea1-40d0-ae2c-f0640bd62b2a",
   "metadata": {
    "tags": []
   },
   "outputs": [],
   "source": [
    "li.sort()"
   ]
  },
  {
   "cell_type": "code",
   "execution_count": 34,
   "id": "04379d65-df3d-40e0-8b19-287a2fd5dfc9",
   "metadata": {
    "tags": []
   },
   "outputs": [
    {
     "data": {
      "text/plain": [
       "[1, 2, 2, 2, 2, 3, 4, 5, 5, 8, 41, 56, 85, 95]"
      ]
     },
     "execution_count": 34,
     "metadata": {},
     "output_type": "execute_result"
    }
   ],
   "source": [
    "li"
   ]
  },
  {
   "cell_type": "code",
   "execution_count": 35,
   "id": "59a0d6ac-030c-4cba-b870-646cc839c0ce",
   "metadata": {
    "tags": []
   },
   "outputs": [],
   "source": [
    "li.sort(reverse = True)"
   ]
  },
  {
   "cell_type": "code",
   "execution_count": 36,
   "id": "0ccd48ee-682d-43f2-a2d9-d27ca72c8605",
   "metadata": {
    "tags": []
   },
   "outputs": [
    {
     "data": {
      "text/plain": [
       "[95, 85, 56, 41, 8, 5, 5, 4, 3, 2, 2, 2, 2, 1]"
      ]
     },
     "execution_count": 36,
     "metadata": {},
     "output_type": "execute_result"
    }
   ],
   "source": [
    "li"
   ]
  },
  {
   "cell_type": "code",
   "execution_count": 37,
   "id": "f0cf2e6b-e95b-4368-9c37-2a2412e44ad9",
   "metadata": {
    "tags": []
   },
   "outputs": [
    {
     "data": {
      "text/plain": [
       "95"
      ]
     },
     "execution_count": 37,
     "metadata": {},
     "output_type": "execute_result"
    }
   ],
   "source": [
    "max(li)"
   ]
  },
  {
   "cell_type": "code",
   "execution_count": 38,
   "id": "c0c82b4f-e132-4a21-a8a5-a16522f5c803",
   "metadata": {
    "tags": []
   },
   "outputs": [
    {
     "data": {
      "text/plain": [
       "1"
      ]
     },
     "execution_count": 38,
     "metadata": {},
     "output_type": "execute_result"
    }
   ],
   "source": [
    "min(li)"
   ]
  },
  {
   "cell_type": "code",
   "execution_count": 39,
   "id": "01140010-5979-47a0-ba14-056a8aa3fc7c",
   "metadata": {
    "tags": []
   },
   "outputs": [
    {
     "data": {
      "text/plain": [
       "311"
      ]
     },
     "execution_count": 39,
     "metadata": {},
     "output_type": "execute_result"
    }
   ],
   "source": [
    "sum(li)"
   ]
  },
  {
   "cell_type": "code",
   "execution_count": 40,
   "id": "1266963e-bd8b-450a-85df-a992d592d557",
   "metadata": {
    "tags": []
   },
   "outputs": [],
   "source": [
    "price = li"
   ]
  },
  {
   "cell_type": "code",
   "execution_count": 41,
   "id": "199cb8c4-313a-4e4a-a4da-680f04a30995",
   "metadata": {
    "tags": []
   },
   "outputs": [
    {
     "data": {
      "text/plain": [
       "[95, 85, 56, 41, 8, 5, 5, 4, 3, 2, 2, 2, 2, 1]"
      ]
     },
     "execution_count": 41,
     "metadata": {},
     "output_type": "execute_result"
    }
   ],
   "source": [
    "price"
   ]
  },
  {
   "cell_type": "code",
   "execution_count": 42,
   "id": "6803e358-0a7f-49f5-8cdc-84536aafd1be",
   "metadata": {
    "tags": []
   },
   "outputs": [],
   "source": [
    "price[0] = 100"
   ]
  },
  {
   "cell_type": "code",
   "execution_count": 43,
   "id": "0c519869-9f25-4d71-a4ad-81af3882da82",
   "metadata": {
    "tags": []
   },
   "outputs": [
    {
     "data": {
      "text/plain": [
       "[100, 85, 56, 41, 8, 5, 5, 4, 3, 2, 2, 2, 2, 1]"
      ]
     },
     "execution_count": 43,
     "metadata": {},
     "output_type": "execute_result"
    }
   ],
   "source": [
    "price"
   ]
  },
  {
   "cell_type": "code",
   "execution_count": 44,
   "id": "1d8475dd-0322-472f-a8b1-a35dc97e0512",
   "metadata": {
    "tags": []
   },
   "outputs": [
    {
     "data": {
      "text/plain": [
       "[100, 85, 56, 41, 8, 5, 5, 4, 3, 2, 2, 2, 2, 1]"
      ]
     },
     "execution_count": 44,
     "metadata": {},
     "output_type": "execute_result"
    }
   ],
   "source": [
    "li"
   ]
  },
  {
   "cell_type": "code",
   "execution_count": 45,
   "id": "042f3b62-9758-4631-b689-af248e202991",
   "metadata": {
    "tags": []
   },
   "outputs": [],
   "source": [
    "price = li.copy()"
   ]
  },
  {
   "cell_type": "code",
   "execution_count": 46,
   "id": "911ced18-f94c-4192-b572-88be152827d2",
   "metadata": {
    "tags": []
   },
   "outputs": [
    {
     "data": {
      "text/plain": [
       "[100, 85, 56, 41, 8, 5, 5, 4, 3, 2, 2, 2, 2, 1]"
      ]
     },
     "execution_count": 46,
     "metadata": {},
     "output_type": "execute_result"
    }
   ],
   "source": [
    "price"
   ]
  },
  {
   "cell_type": "code",
   "execution_count": 47,
   "id": "92e2fa85-49a1-4d59-b530-2246f26504e4",
   "metadata": {
    "tags": []
   },
   "outputs": [
    {
     "data": {
      "text/plain": [
       "[100, 85, 56, 41, 8, 5, 5, 4, 3, 2, 2, 2, 2, 1]"
      ]
     },
     "execution_count": 47,
     "metadata": {},
     "output_type": "execute_result"
    }
   ],
   "source": [
    "li"
   ]
  },
  {
   "cell_type": "code",
   "execution_count": 49,
   "id": "32e0963e-131f-4dc2-90e4-396effc331dd",
   "metadata": {
    "tags": []
   },
   "outputs": [],
   "source": [
    "price[0] = 95"
   ]
  },
  {
   "cell_type": "code",
   "execution_count": 50,
   "id": "0bab2a36-fbcd-4764-a261-3c0988f7f492",
   "metadata": {
    "tags": []
   },
   "outputs": [
    {
     "data": {
      "text/plain": [
       "[95, 85, 56, 41, 8, 5, 5, 4, 3, 2, 2, 2, 2, 1]"
      ]
     },
     "execution_count": 50,
     "metadata": {},
     "output_type": "execute_result"
    }
   ],
   "source": [
    "price"
   ]
  },
  {
   "cell_type": "code",
   "execution_count": 51,
   "id": "5b43f21f-59d2-4612-9ae9-8de021c85280",
   "metadata": {
    "tags": []
   },
   "outputs": [
    {
     "data": {
      "text/plain": [
       "[100, 85, 56, 41, 8, 5, 5, 4, 3, 2, 2, 2, 2, 1]"
      ]
     },
     "execution_count": 51,
     "metadata": {},
     "output_type": "execute_result"
    }
   ],
   "source": [
    "li"
   ]
  },
  {
   "cell_type": "code",
   "execution_count": 52,
   "id": "3a2c1c11-34d7-42bf-ad40-b445a928d30a",
   "metadata": {
    "tags": []
   },
   "outputs": [
    {
     "data": {
      "text/plain": [
       "[1, 2, 5, 4, 56, 8, 95, 2, 3]"
      ]
     },
     "execution_count": 52,
     "metadata": {},
     "output_type": "execute_result"
    }
   ],
   "source": [
    "li1"
   ]
  },
  {
   "cell_type": "code",
   "execution_count": 53,
   "id": "cbb3cd91-54b2-45af-a8f7-d70aa926a712",
   "metadata": {
    "tags": []
   },
   "outputs": [],
   "source": [
    "li1.clear()"
   ]
  },
  {
   "cell_type": "code",
   "execution_count": 54,
   "id": "fc6cc053-f538-48f0-a495-2488f48c1ff4",
   "metadata": {
    "tags": []
   },
   "outputs": [
    {
     "data": {
      "text/plain": [
       "[]"
      ]
     },
     "execution_count": 54,
     "metadata": {},
     "output_type": "execute_result"
    }
   ],
   "source": [
    "li1"
   ]
  },
  {
   "cell_type": "code",
   "execution_count": 55,
   "id": "cb111f65-fbc2-4592-b4d8-7dfc634c23ad",
   "metadata": {
    "tags": []
   },
   "outputs": [],
   "source": [
    "lis = [[1,2,3],[4,5,6],[7,8,9]]"
   ]
  },
  {
   "cell_type": "code",
   "execution_count": 56,
   "id": "7a3ed1ad-6447-4cd7-8479-8096569c628d",
   "metadata": {
    "tags": []
   },
   "outputs": [
    {
     "data": {
      "text/plain": [
       "[[1, 2, 3], [4, 5, 6], [7, 8, 9]]"
      ]
     },
     "execution_count": 56,
     "metadata": {},
     "output_type": "execute_result"
    }
   ],
   "source": [
    "lis"
   ]
  },
  {
   "cell_type": "code",
   "execution_count": 57,
   "id": "9508a1df-5ecd-4142-82c1-e2ba1dcc9704",
   "metadata": {
    "tags": []
   },
   "outputs": [
    {
     "name": "stdout",
     "output_type": "stream",
     "text": [
      "1 2 3 \n",
      "4 5 6 \n",
      "7 8 9 \n"
     ]
    }
   ],
   "source": [
    "for i in range(len(lis)):\n",
    "    for j in range(len(lis[0])):\n",
    "        print(f\"{lis[i][j]}\",end = \" \")\n",
    "    print()"
   ]
  },
  {
   "cell_type": "code",
   "execution_count": 58,
   "id": "4c6ae233-d28a-4ba9-9874-6864728867bc",
   "metadata": {
    "tags": []
   },
   "outputs": [
    {
     "data": {
      "text/plain": [
       "5"
      ]
     },
     "execution_count": 58,
     "metadata": {},
     "output_type": "execute_result"
    }
   ],
   "source": [
    "lis[1][1]"
   ]
  },
  {
   "cell_type": "code",
   "execution_count": 74,
   "id": "3d7e3a75-e351-48bf-9e3f-ebbdaef296ab",
   "metadata": {
    "tags": []
   },
   "outputs": [],
   "source": [
    "li = [8,9,2,14,51,18,3]"
   ]
  },
  {
   "cell_type": "code",
   "execution_count": 60,
   "id": "e29aa312-6697-4503-9454-676fd5a1de79",
   "metadata": {
    "tags": []
   },
   "outputs": [
    {
     "data": {
      "text/plain": [
       "51"
      ]
     },
     "execution_count": 60,
     "metadata": {},
     "output_type": "execute_result"
    }
   ],
   "source": [
    "large = li[0]\n",
    "for i in li:\n",
    "    if large < i:\n",
    "        large = i\n",
    "large"
   ]
  },
  {
   "cell_type": "code",
   "execution_count": 81,
   "id": "d7d8f625-f513-4056-b847-77465fadf2a4",
   "metadata": {
    "tags": []
   },
   "outputs": [],
   "source": [
    "large = li[0]\n",
    "secMax = li[0]\n",
    "for i in li:\n",
    "    if large < i:\n",
    "        secMax = large\n",
    "        large = i\n",
    "    elif secMax < large and secMax < i:\n",
    "        secMax = i"
   ]
  },
  {
   "cell_type": "code",
   "execution_count": 82,
   "id": "301fb0f6-598d-4882-9d3c-effe36771074",
   "metadata": {
    "tags": []
   },
   "outputs": [
    {
     "data": {
      "text/plain": [
       "(18, 51)"
      ]
     },
     "execution_count": 82,
     "metadata": {},
     "output_type": "execute_result"
    }
   ],
   "source": [
    "secMax,large"
   ]
  },
  {
   "cell_type": "code",
   "execution_count": 2,
   "id": "1f1dcb90-c2d7-424a-9b01-46bf447c8bd8",
   "metadata": {},
   "outputs": [
    {
     "name": "stdout",
     "output_type": "stream",
     "text": [
      "1456\n",
      "12\n",
      "2\n"
     ]
    },
    {
     "data": {
      "text/plain": [
       "2"
      ]
     },
     "execution_count": 2,
     "metadata": {},
     "output_type": "execute_result"
    }
   ],
   "source": [
    "li = [5,4,21,4,178,185,1456,12,2]\n",
    "for i in range(len(li)):\n",
    "    for j in range(i+1,len(li)):\n",
    "        if li[i] < li[j]:\n",
    "            break\n",
    "    else:\n",
    "        print(li[i])\n",
    "        "
   ]
  },
  {
   "cell_type": "code",
   "execution_count": 3,
   "id": "ef4a2aa7-132f-4848-88df-ee1cd5df9daa",
   "metadata": {
    "tags": []
   },
   "outputs": [
    {
     "name": "stdout",
     "output_type": "stream",
     "text": [
      "[114, 160, 60, 27]\n",
      "[74, 97, 73, 14]\n",
      "[119, 157, 112, 23]\n"
     ]
    }
   ],
   "source": [
    "# take a 3x3 matrix\n",
    "A = [[12, 7, 3],\n",
    "    [4, 5, 6],\n",
    "    [7, 8, 9]]\n",
    "\n",
    "# take a 3x4 matrix    \n",
    "B = [[5, 8, 1, 2],\n",
    "    [6, 7, 3, 0],\n",
    "    [4, 5, 9, 1]]\n",
    "    \n",
    "result = [[0, 0, 0, 0],\n",
    "        [0, 0, 0, 0],\n",
    "        [0, 0, 0, 0]]\n",
    "\n",
    "# iterating by row of A\n",
    "for i in range(len(A)):\n",
    "    # iterating by column by B \n",
    "    for j in range(len(B[0])):\n",
    "        # iterating by rows of B\n",
    "        for k in range(len(B)):\n",
    "            result[i][j] += A[i][k] * B[k][j]\n",
    "\n",
    "for r in result:\n",
    "    print(r)"
   ]
  },
  {
   "cell_type": "code",
   "execution_count": 1,
   "id": "3d060e90-2f7d-4a70-86d5-128e70d50bb6",
   "metadata": {},
   "outputs": [],
   "source": [
    "tu = ()"
   ]
  },
  {
   "cell_type": "code",
   "execution_count": 2,
   "id": "4b533edf-2749-4d93-b36c-8e913bdb77b0",
   "metadata": {
    "tags": []
   },
   "outputs": [
    {
     "data": {
      "text/plain": [
       "tuple"
      ]
     },
     "execution_count": 2,
     "metadata": {},
     "output_type": "execute_result"
    }
   ],
   "source": [
    "type(tu)"
   ]
  },
  {
   "cell_type": "code",
   "execution_count": 3,
   "id": "9bee08d1-9ac4-434d-89fd-66a7e246959a",
   "metadata": {
    "tags": []
   },
   "outputs": [],
   "source": [
    "tup = 1,2,3,4,5,6,7,8,9"
   ]
  },
  {
   "cell_type": "code",
   "execution_count": 4,
   "id": "6c0d2ec1-adc3-4d5e-9fdc-7f058bf4cea7",
   "metadata": {
    "tags": []
   },
   "outputs": [
    {
     "data": {
      "text/plain": [
       "(1, 2, 3, 4, 5, 6, 7, 8, 9)"
      ]
     },
     "execution_count": 4,
     "metadata": {},
     "output_type": "execute_result"
    }
   ],
   "source": [
    "tup"
   ]
  },
  {
   "cell_type": "code",
   "execution_count": 5,
   "id": "2bc68718-86f3-4187-810e-f806be6ae652",
   "metadata": {
    "tags": []
   },
   "outputs": [],
   "source": [
    "t = tuple()"
   ]
  },
  {
   "cell_type": "code",
   "execution_count": 6,
   "id": "a0246763-5fc3-4145-b66b-7a9ca5cf7083",
   "metadata": {
    "tags": []
   },
   "outputs": [
    {
     "data": {
      "text/plain": [
       "()"
      ]
     },
     "execution_count": 6,
     "metadata": {},
     "output_type": "execute_result"
    }
   ],
   "source": [
    "t"
   ]
  },
  {
   "cell_type": "code",
   "execution_count": 10,
   "id": "3aa848be-b294-4465-8585-78f7cae0ef5f",
   "metadata": {
    "tags": []
   },
   "outputs": [],
   "source": [
    "tup = list(tup)"
   ]
  },
  {
   "cell_type": "code",
   "execution_count": 11,
   "id": "612c7f84-29b1-4626-b7ec-0efc192e75df",
   "metadata": {
    "tags": []
   },
   "outputs": [
    {
     "data": {
      "text/plain": [
       "[1, 2, 3, 4, 5, 6, 7, 8, 9]"
      ]
     },
     "execution_count": 11,
     "metadata": {},
     "output_type": "execute_result"
    }
   ],
   "source": [
    "tup"
   ]
  },
  {
   "cell_type": "code",
   "execution_count": 12,
   "id": "7aeea283-a515-416a-b2f3-eaf36210ae0d",
   "metadata": {
    "tags": []
   },
   "outputs": [
    {
     "data": {
      "text/plain": [
       "[1, 2, 3, 4, 5, 20, 7, 8, 9]"
      ]
     },
     "execution_count": 12,
     "metadata": {},
     "output_type": "execute_result"
    }
   ],
   "source": [
    "tup[5] = 20\n",
    "tup"
   ]
  },
  {
   "cell_type": "code",
   "execution_count": 13,
   "id": "5d0c2424-836f-463d-aa39-02e24b40e852",
   "metadata": {
    "tags": []
   },
   "outputs": [],
   "source": [
    "tup = tuple(tup)"
   ]
  },
  {
   "cell_type": "code",
   "execution_count": 14,
   "id": "1f10ec8a-78a5-40d9-aa8f-3b72b24c3534",
   "metadata": {
    "tags": []
   },
   "outputs": [
    {
     "data": {
      "text/plain": [
       "(1, 2, 3, 4, 5, 20, 7, 8, 9)"
      ]
     },
     "execution_count": 14,
     "metadata": {},
     "output_type": "execute_result"
    }
   ],
   "source": [
    "tup"
   ]
  },
  {
   "cell_type": "code",
   "execution_count": 15,
   "id": "85961116-f6bc-450e-aeaa-6954aca1ee01",
   "metadata": {
    "tags": []
   },
   "outputs": [
    {
     "data": {
      "text/plain": [
       "1"
      ]
     },
     "execution_count": 15,
     "metadata": {},
     "output_type": "execute_result"
    }
   ],
   "source": [
    "tup.count(5)"
   ]
  },
  {
   "cell_type": "code",
   "execution_count": 16,
   "id": "4bf6f21b-1dd6-43e9-8a7e-c0940a2f9996",
   "metadata": {
    "tags": []
   },
   "outputs": [
    {
     "data": {
      "text/plain": [
       "9"
      ]
     },
     "execution_count": 16,
     "metadata": {},
     "output_type": "execute_result"
    }
   ],
   "source": [
    "len(tup)"
   ]
  },
  {
   "cell_type": "code",
   "execution_count": 17,
   "id": "878a4312-3144-4c63-98ca-90fb2a4719e9",
   "metadata": {
    "tags": []
   },
   "outputs": [
    {
     "data": {
      "text/plain": [
       "3"
      ]
     },
     "execution_count": 17,
     "metadata": {},
     "output_type": "execute_result"
    }
   ],
   "source": [
    "tup.index(4)"
   ]
  },
  {
   "cell_type": "code",
   "execution_count": 18,
   "id": "c2416097-d998-4e06-b53d-43474245118d",
   "metadata": {
    "tags": []
   },
   "outputs": [
    {
     "data": {
      "text/plain": [
       "20"
      ]
     },
     "execution_count": 18,
     "metadata": {},
     "output_type": "execute_result"
    }
   ],
   "source": [
    "max(tup)"
   ]
  },
  {
   "cell_type": "code",
   "execution_count": 19,
   "id": "254acda3-834d-42a6-9f3b-3e642dbd8083",
   "metadata": {
    "tags": []
   },
   "outputs": [
    {
     "data": {
      "text/plain": [
       "1"
      ]
     },
     "execution_count": 19,
     "metadata": {},
     "output_type": "execute_result"
    }
   ],
   "source": [
    "min(tup)"
   ]
  },
  {
   "cell_type": "code",
   "execution_count": 20,
   "id": "6fbe8945-38f0-48fe-b2c2-5ce7720c39b3",
   "metadata": {
    "tags": []
   },
   "outputs": [
    {
     "data": {
      "text/plain": [
       "59"
      ]
     },
     "execution_count": 20,
     "metadata": {},
     "output_type": "execute_result"
    }
   ],
   "source": [
    "sum(tup)"
   ]
  },
  {
   "cell_type": "code",
   "execution_count": 21,
   "id": "87cc0272-cec1-486f-a6de-793ddbcf1eaa",
   "metadata": {
    "tags": []
   },
   "outputs": [
    {
     "ename": "TypeError",
     "evalue": "unsupported operand type(s) for +: 'int' and 'str'",
     "output_type": "error",
     "traceback": [
      "\u001b[1;31m---------------------------------------------------------------------------\u001b[0m",
      "\u001b[1;31mTypeError\u001b[0m                                 Traceback (most recent call last)",
      "Cell \u001b[1;32mIn[21], line 2\u001b[0m\n\u001b[0;32m      1\u001b[0m t \u001b[38;5;241m=\u001b[39m (\u001b[38;5;124m\"\u001b[39m\u001b[38;5;124mok\u001b[39m\u001b[38;5;124m\"\u001b[39m,\u001b[38;5;124m\"\u001b[39m\u001b[38;5;124mriya\u001b[39m\u001b[38;5;124m\"\u001b[39m)\n\u001b[1;32m----> 2\u001b[0m \u001b[38;5;28msum\u001b[39m(t)\n",
      "\u001b[1;31mTypeError\u001b[0m: unsupported operand type(s) for +: 'int' and 'str'"
     ]
    }
   ],
   "source": [
    "t = (\"ok\",\"riya\")\n",
    "sum(t)"
   ]
  },
  {
   "cell_type": "code",
   "execution_count": null,
   "id": "9560248f-fa4f-4f72-b612-8412ddc76707",
   "metadata": {},
   "outputs": [],
   "source": []
  }
 ],
 "metadata": {
  "kernelspec": {
   "display_name": "Python 3 (ipykernel)",
   "language": "python",
   "name": "python3"
  },
  "language_info": {
   "codemirror_mode": {
    "name": "ipython",
    "version": 3
   },
   "file_extension": ".py",
   "mimetype": "text/x-python",
   "name": "python",
   "nbconvert_exporter": "python",
   "pygments_lexer": "ipython3",
   "version": "3.11.5"
  }
 },
 "nbformat": 4,
 "nbformat_minor": 5
}
