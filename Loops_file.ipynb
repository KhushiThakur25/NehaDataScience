{
 "cells": [
  {
   "cell_type": "code",
   "execution_count": 2,
   "id": "dd62ce3d-2709-4136-9c0f-44715b8a3816",
   "metadata": {
    "tags": []
   },
   "outputs": [
    {
     "name": "stdout",
     "output_type": "stream",
     "text": [
      "2 x 1 = 2\n",
      "2 x 2 = 4\n",
      "2 x 3 = 6\n",
      "2 x 4 = 8\n",
      "2 x 5 = 10\n"
     ]
    }
   ],
   "source": [
    "print(f\"2 x 1 = {2*1}\")\n",
    "print(f\"2 x 2 = {2*2}\")\n",
    "print(f\"2 x 3 = {2*3}\")\n",
    "print(f\"2 x 4 = {2*4}\")\n",
    "print(f\"2 x 5 = {2*5}\")"
   ]
  },
  {
   "cell_type": "code",
   "execution_count": 7,
   "id": "263ef0ab-5ddb-4c8b-a6f3-c2ea5fd11d4d",
   "metadata": {
    "tags": []
   },
   "outputs": [
    {
     "name": "stdin",
     "output_type": "stream",
     "text": [
      "Enter the value 6\n"
     ]
    },
    {
     "name": "stdout",
     "output_type": "stream",
     "text": [
      "6 x 1 = 6\n",
      "6 x 3 = 18\n",
      "6 x 5 = 30\n",
      "6 x 7 = 42\n",
      "6 x 9 = 54\n"
     ]
    }
   ],
   "source": [
    "n = int(input(\"Enter the value\"))\n",
    "for i in range(1,11,2):\n",
    "    print(f\"{n} x {i} = {n*i}\")"
   ]
  },
  {
   "cell_type": "code",
   "execution_count": 8,
   "id": "63c54813-fca8-4c6d-92e7-b0a47293b07d",
   "metadata": {
    "tags": []
   },
   "outputs": [
    {
     "name": "stdout",
     "output_type": "stream",
     "text": [
      "3 x 1 = 3\n",
      "3 x 2 = 6\n",
      "3 x 3 = 9\n",
      "3 x 4 = 12\n",
      "3 x 5 = 15\n",
      "3 x 6 = 18\n",
      "3 x 7 = 21\n",
      "3 x 8 = 24\n",
      "3 x 9 = 27\n",
      "3 x 10 = 30\n"
     ]
    }
   ],
   "source": [
    "n = 3\n",
    "i = 1\n",
    "while i <= 10:\n",
    "    print(f\"{n} x {i} = {n*i}\")\n",
    "    i += 1"
   ]
  },
  {
   "cell_type": "code",
   "execution_count": 13,
   "id": "b77b2430-06a9-418f-80f4-48a482df1995",
   "metadata": {
    "tags": []
   },
   "outputs": [
    {
     "name": "stdout",
     "output_type": "stream",
     "text": [
      "Number is not prime\n"
     ]
    }
   ],
   "source": [
    "n = 20\n",
    "prime = True\n",
    "for i in range(2,n//2+1):\n",
    "    if n%i == 0:\n",
    "        prime = False\n",
    "        print(\"Number is not prime\")\n",
    "        break\n",
    "if prime:\n",
    "    print(\"Number is prime\")"
   ]
  },
  {
   "cell_type": "code",
   "execution_count": 15,
   "id": "65567d3e-a255-49bd-8713-56c0293dfe6a",
   "metadata": {
    "tags": []
   },
   "outputs": [
    {
     "name": "stdout",
     "output_type": "stream",
     "text": [
      "Number is prime\n"
     ]
    }
   ],
   "source": [
    "n = 19\n",
    "for i in range(2,n//2+1):\n",
    "    if n%i == 0:\n",
    "        print(\"Number is not prime\")\n",
    "        break\n",
    "else:\n",
    "    print(\"Number is prime\")"
   ]
  },
  {
   "cell_type": "code",
   "execution_count": 17,
   "id": "b1d9f46a-2f67-44eb-ae86-6d6d652f178f",
   "metadata": {
    "tags": []
   },
   "outputs": [
    {
     "name": "stdout",
     "output_type": "stream",
     "text": [
      "54321\n"
     ]
    }
   ],
   "source": [
    "n = 12345\n",
    "rev = 0\n",
    "while n > 0:\n",
    "    rev = rev * 10 + n%10\n",
    "    n //= 10\n",
    "print(rev)"
   ]
  },
  {
   "cell_type": "code",
   "execution_count": 28,
   "id": "091f12f3-5912-43d6-8b1b-54e5dbdf13be",
   "metadata": {
    "tags": []
   },
   "outputs": [
    {
     "name": "stdout",
     "output_type": "stream",
     "text": [
      "* * * * * \n",
      "* * * * * \n",
      "* * * * * \n",
      "* * * * * \n",
      "* * * * * \n"
     ]
    }
   ],
   "source": [
    "# *****\n",
    "# *****\n",
    "# *****\n",
    "# *****\n",
    "# *****\n",
    "for j in range(5):\n",
    "    for i in range(5):\n",
    "        print(\"*\",end = \" \")\n",
    "    print()\n"
   ]
  },
  {
   "cell_type": "code",
   "execution_count": 30,
   "id": "4494d020-919d-44ab-b684-232516c88949",
   "metadata": {
    "tags": []
   },
   "outputs": [
    {
     "name": "stdout",
     "output_type": "stream",
     "text": [
      "(0, 0) (0, 1) (0, 2) (0, 3) (0, 4) \n",
      "(1, 0) (1, 1) (1, 2) (1, 3) (1, 4) \n",
      "(2, 0) (2, 1) (2, 2) (2, 3) (2, 4) \n",
      "(3, 0) (3, 1) (3, 2) (3, 3) (3, 4) \n",
      "(4, 0) (4, 1) (4, 2) (4, 3) (4, 4) \n"
     ]
    }
   ],
   "source": [
    "for j in range(5):\n",
    "    for i in range(5):\n",
    "        print(f\"{j,i}\",end = \" \")\n",
    "    print()"
   ]
  },
  {
   "cell_type": "code",
   "execution_count": 3,
   "id": "0947d32b-457b-4dfe-bb8b-b421fe2c62ca",
   "metadata": {},
   "outputs": [
    {
     "name": "stdout",
     "output_type": "stream",
     "text": [
      "        * \n",
      "      * * \n",
      "    * * * \n",
      "  * * * * \n",
      "* * * * * \n"
     ]
    }
   ],
   "source": [
    "n = 5\n",
    "for i in range(n):\n",
    "    for j in range(n-1-i):\n",
    "        print(\" \",end = \" \")\n",
    "    for k in range(n-1-i,n):\n",
    "        print(\"*\",end = \" \")\n",
    "    print()"
   ]
  },
  {
   "cell_type": "code",
   "execution_count": 4,
   "id": "5743a655-be4c-43c9-8f71-2cd3790be0c5",
   "metadata": {
    "tags": []
   },
   "outputs": [
    {
     "name": "stdout",
     "output_type": "stream",
     "text": [
      "        * \n",
      "      * * * \n",
      "    * * * * * \n",
      "  * * * * * * * \n",
      "* * * * * * * * * \n"
     ]
    }
   ],
   "source": [
    "n = 5\n",
    "for i in range(n):\n",
    "    for j in range(n-1-i):\n",
    "        print(\" \",end = \" \")\n",
    "    for k in range(2*i + 1):\n",
    "        print(\"*\",end = \" \")\n",
    "    print()"
   ]
  },
  {
   "cell_type": "code",
   "execution_count": 9,
   "id": "c08d4c70-168e-4a1e-9a86-9008240cb2c5",
   "metadata": {
    "tags": []
   },
   "outputs": [
    {
     "name": "stdout",
     "output_type": "stream",
     "text": [
      "Number is not an Armstrong..\n"
     ]
    }
   ],
   "source": [
    "n = 145\n",
    "org = n\n",
    "count = 0\n",
    "sums = 0\n",
    "while n > 0:\n",
    "    count += 1\n",
    "    n //= 10\n",
    "n = org\n",
    "while n > 0:\n",
    "    sums += pow(n%10,count)\n",
    "    n //= 10\n",
    "if sums == org:\n",
    "    print(\"Number is an Armstrong..\")\n",
    "else:\n",
    "    print(\"Number is not an Armstrong..\")"
   ]
  },
  {
   "cell_type": "code",
   "execution_count": 13,
   "id": "e37257fb-e9de-472f-a601-fda2ca42c1b3",
   "metadata": {
    "tags": []
   },
   "outputs": [
    {
     "name": "stdout",
     "output_type": "stream",
     "text": [
      "1\n",
      "2\n",
      "3\n",
      "4\n",
      "5\n",
      "6\n",
      "7\n",
      "8\n",
      "9\n",
      "153\n",
      "370\n",
      "371\n",
      "407\n"
     ]
    }
   ],
   "source": [
    "for n in range(1,1001):\n",
    "    org = n\n",
    "    count = 0\n",
    "    sums = 0\n",
    "    while org > 0:\n",
    "        count += 1\n",
    "        org //= 10\n",
    "    org = n\n",
    "    while org > 0:\n",
    "        sums += pow(org%10,count)\n",
    "        org //= 10\n",
    "    if sums == n:\n",
    "        print(n)"
   ]
  },
  {
   "cell_type": "code",
   "execution_count": 15,
   "id": "3f50d3f8-37dc-4ba1-96ed-19bf4d78071f",
   "metadata": {
    "tags": []
   },
   "outputs": [
    {
     "name": "stdout",
     "output_type": "stream",
     "text": [
      "Number is not palindrome\n"
     ]
    }
   ],
   "source": [
    "n = 123\n",
    "org = n\n",
    "rev = 0\n",
    "while org > 0:\n",
    "    rev = rev*10 + org%10\n",
    "    org //= 10\n",
    "if n == rev:\n",
    "    print(\"Number is palindrome\")\n",
    "else:\n",
    "    print(\"Number is not palindrome\")"
   ]
  },
  {
   "cell_type": "code",
   "execution_count": 17,
   "id": "1e3fc54c-08cd-4c49-ae71-4c55dff6a163",
   "metadata": {
    "tags": []
   },
   "outputs": [
    {
     "name": "stdout",
     "output_type": "stream",
     "text": [
      "2\n",
      "3\n",
      "5\n",
      "7\n",
      "11\n",
      "13\n",
      "17\n",
      "19\n",
      "23\n",
      "29\n",
      "31\n",
      "37\n",
      "41\n",
      "43\n",
      "47\n",
      "53\n",
      "59\n",
      "61\n",
      "67\n",
      "71\n",
      "73\n",
      "79\n",
      "83\n",
      "89\n",
      "97\n"
     ]
    }
   ],
   "source": [
    "for n in range(2,101):\n",
    "    for i in range(2,n//2+1):\n",
    "        if n%i == 0:\n",
    "            break\n",
    "    else:\n",
    "        print(n)"
   ]
  },
  {
   "cell_type": "code",
   "execution_count": 20,
   "id": "76316ae0-e3ec-48c0-b76a-29456923b625",
   "metadata": {
    "tags": []
   },
   "outputs": [
    {
     "name": "stdout",
     "output_type": "stream",
     "text": [
      "0 1 1 2 3 5 8 "
     ]
    }
   ],
   "source": [
    "f = 0\n",
    "s = 1\n",
    "t = 0\n",
    "print(f,s,end = \" \")\n",
    "for i in range(2,7):\n",
    "    t = f + s\n",
    "    print(t,end = \" \")\n",
    "    f = s\n",
    "    s = t\n",
    "    "
   ]
  },
  {
   "cell_type": "code",
   "execution_count": null,
   "id": "57d4dd96-ed17-4092-83f9-9199778dbd92",
   "metadata": {},
   "outputs": [],
   "source": []
  }
 ],
 "metadata": {
  "kernelspec": {
   "display_name": "Python 3 (ipykernel)",
   "language": "python",
   "name": "python3"
  },
  "language_info": {
   "codemirror_mode": {
    "name": "ipython",
    "version": 3
   },
   "file_extension": ".py",
   "mimetype": "text/x-python",
   "name": "python",
   "nbconvert_exporter": "python",
   "pygments_lexer": "ipython3",
   "version": "3.11.5"
  }
 },
 "nbformat": 4,
 "nbformat_minor": 5
}
